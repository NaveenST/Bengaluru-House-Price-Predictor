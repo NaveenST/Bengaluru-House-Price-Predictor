{
 "cells": [
  {
   "cell_type": "code",
   "execution_count": 1,
   "id": "283713b4",
   "metadata": {},
   "outputs": [],
   "source": [
    "import pandas as pd\n",
    "import numpy as np\n",
    "import matplotlib.pyplot as plt\n",
    "%matplotlib inline\n",
    "plt.rcParams[\"figure.figsize\"] = (20,10)"
   ]
  },
  {
   "cell_type": "code",
   "execution_count": 2,
   "id": "75ca40cd",
   "metadata": {},
   "outputs": [
    {
     "data": {
      "text/html": [
       "<div>\n",
       "<style scoped>\n",
       "    .dataframe tbody tr th:only-of-type {\n",
       "        vertical-align: middle;\n",
       "    }\n",
       "\n",
       "    .dataframe tbody tr th {\n",
       "        vertical-align: top;\n",
       "    }\n",
       "\n",
       "    .dataframe thead th {\n",
       "        text-align: right;\n",
       "    }\n",
       "</style>\n",
       "<table border=\"1\" class=\"dataframe\">\n",
       "  <thead>\n",
       "    <tr style=\"text-align: right;\">\n",
       "      <th></th>\n",
       "      <th>area_type</th>\n",
       "      <th>availability</th>\n",
       "      <th>location</th>\n",
       "      <th>size</th>\n",
       "      <th>society</th>\n",
       "      <th>total_sqft</th>\n",
       "      <th>bath</th>\n",
       "      <th>balcony</th>\n",
       "      <th>price</th>\n",
       "    </tr>\n",
       "  </thead>\n",
       "  <tbody>\n",
       "    <tr>\n",
       "      <th>0</th>\n",
       "      <td>Super built-up  Area</td>\n",
       "      <td>19-Dec</td>\n",
       "      <td>Electronic City Phase II</td>\n",
       "      <td>2 BHK</td>\n",
       "      <td>Coomee</td>\n",
       "      <td>1056</td>\n",
       "      <td>2.0</td>\n",
       "      <td>1.0</td>\n",
       "      <td>39.07</td>\n",
       "    </tr>\n",
       "    <tr>\n",
       "      <th>1</th>\n",
       "      <td>Plot  Area</td>\n",
       "      <td>Ready To Move</td>\n",
       "      <td>Chikka Tirupathi</td>\n",
       "      <td>4 Bedroom</td>\n",
       "      <td>Theanmp</td>\n",
       "      <td>2600</td>\n",
       "      <td>5.0</td>\n",
       "      <td>3.0</td>\n",
       "      <td>120.00</td>\n",
       "    </tr>\n",
       "    <tr>\n",
       "      <th>2</th>\n",
       "      <td>Built-up  Area</td>\n",
       "      <td>Ready To Move</td>\n",
       "      <td>Uttarahalli</td>\n",
       "      <td>3 BHK</td>\n",
       "      <td>NaN</td>\n",
       "      <td>1440</td>\n",
       "      <td>2.0</td>\n",
       "      <td>3.0</td>\n",
       "      <td>62.00</td>\n",
       "    </tr>\n",
       "    <tr>\n",
       "      <th>3</th>\n",
       "      <td>Super built-up  Area</td>\n",
       "      <td>Ready To Move</td>\n",
       "      <td>Lingadheeranahalli</td>\n",
       "      <td>3 BHK</td>\n",
       "      <td>Soiewre</td>\n",
       "      <td>1521</td>\n",
       "      <td>3.0</td>\n",
       "      <td>1.0</td>\n",
       "      <td>95.00</td>\n",
       "    </tr>\n",
       "    <tr>\n",
       "      <th>4</th>\n",
       "      <td>Super built-up  Area</td>\n",
       "      <td>Ready To Move</td>\n",
       "      <td>Kothanur</td>\n",
       "      <td>2 BHK</td>\n",
       "      <td>NaN</td>\n",
       "      <td>1200</td>\n",
       "      <td>2.0</td>\n",
       "      <td>1.0</td>\n",
       "      <td>51.00</td>\n",
       "    </tr>\n",
       "  </tbody>\n",
       "</table>\n",
       "</div>"
      ],
      "text/plain": [
       "              area_type   availability                  location       size  \\\n",
       "0  Super built-up  Area         19-Dec  Electronic City Phase II      2 BHK   \n",
       "1            Plot  Area  Ready To Move          Chikka Tirupathi  4 Bedroom   \n",
       "2        Built-up  Area  Ready To Move               Uttarahalli      3 BHK   \n",
       "3  Super built-up  Area  Ready To Move        Lingadheeranahalli      3 BHK   \n",
       "4  Super built-up  Area  Ready To Move                  Kothanur      2 BHK   \n",
       "\n",
       "   society total_sqft  bath  balcony   price  \n",
       "0  Coomee        1056   2.0      1.0   39.07  \n",
       "1  Theanmp       2600   5.0      3.0  120.00  \n",
       "2      NaN       1440   2.0      3.0   62.00  \n",
       "3  Soiewre       1521   3.0      1.0   95.00  \n",
       "4      NaN       1200   2.0      1.0   51.00  "
      ]
     },
     "execution_count": 2,
     "metadata": {},
     "output_type": "execute_result"
    }
   ],
   "source": [
    "df1 = pd.read_csv('C:\\\\Users\\\\stnav\\\\Bengaluru Housing Price Estimator Project\\\\Kaggle Dataset\\\\Bengaluru_House_Data.csv')\n",
    "df1.head()"
   ]
  },
  {
   "cell_type": "code",
   "execution_count": 3,
   "id": "bf0e461f",
   "metadata": {},
   "outputs": [
    {
     "data": {
      "text/plain": [
       "(13320, 9)"
      ]
     },
     "execution_count": 3,
     "metadata": {},
     "output_type": "execute_result"
    }
   ],
   "source": [
    "df1.shape"
   ]
  },
  {
   "cell_type": "code",
   "execution_count": 4,
   "id": "3e2473ce",
   "metadata": {},
   "outputs": [
    {
     "data": {
      "text/plain": [
       "Index(['area_type', 'availability', 'location', 'size', 'society',\n",
       "       'total_sqft', 'bath', 'balcony', 'price'],\n",
       "      dtype='object')"
      ]
     },
     "execution_count": 4,
     "metadata": {},
     "output_type": "execute_result"
    }
   ],
   "source": [
    "df1.columns"
   ]
  },
  {
   "cell_type": "code",
   "execution_count": 5,
   "id": "f30166d6",
   "metadata": {},
   "outputs": [
    {
     "name": "stdout",
     "output_type": "stream",
     "text": [
      "<class 'pandas.core.frame.DataFrame'>\n",
      "RangeIndex: 13320 entries, 0 to 13319\n",
      "Data columns (total 9 columns):\n",
      " #   Column        Non-Null Count  Dtype  \n",
      "---  ------        --------------  -----  \n",
      " 0   area_type     13320 non-null  object \n",
      " 1   availability  13320 non-null  object \n",
      " 2   location      13319 non-null  object \n",
      " 3   size          13304 non-null  object \n",
      " 4   society       7818 non-null   object \n",
      " 5   total_sqft    13320 non-null  object \n",
      " 6   bath          13247 non-null  float64\n",
      " 7   balcony       12711 non-null  float64\n",
      " 8   price         13320 non-null  float64\n",
      "dtypes: float64(3), object(6)\n",
      "memory usage: 936.7+ KB\n"
     ]
    }
   ],
   "source": [
    "df1.info()"
   ]
  },
  {
   "cell_type": "markdown",
   "id": "a50ec1b0",
   "metadata": {},
   "source": [
    "### Super built-up area type are majority in the sample"
   ]
  },
  {
   "cell_type": "code",
   "execution_count": 6,
   "id": "06056933",
   "metadata": {},
   "outputs": [
    {
     "data": {
      "text/plain": [
       "Super built-up  Area    8790\n",
       "Built-up  Area          2418\n",
       "Plot  Area              2025\n",
       "Carpet  Area              87\n",
       "Name: area_type, dtype: int64"
      ]
     },
     "execution_count": 6,
     "metadata": {},
     "output_type": "execute_result"
    }
   ],
   "source": [
    "df1['area_type'].value_counts().sort_values(ascending=False)"
   ]
  },
  {
   "cell_type": "markdown",
   "id": "26a7965d",
   "metadata": {},
   "source": [
    "### Ready To Move houses are more in the sample"
   ]
  },
  {
   "cell_type": "code",
   "execution_count": 7,
   "id": "742cd689",
   "metadata": {},
   "outputs": [
    {
     "data": {
      "text/plain": [
       "Ready To Move    10581\n",
       "18-Dec             307\n",
       "18-May             295\n",
       "18-Apr             271\n",
       "18-Aug             200\n",
       "Name: availability, dtype: int64"
      ]
     },
     "execution_count": 7,
     "metadata": {},
     "output_type": "execute_result"
    }
   ],
   "source": [
    "df1['availability'].value_counts().head()"
   ]
  },
  {
   "cell_type": "code",
   "execution_count": 8,
   "id": "d173f069",
   "metadata": {},
   "outputs": [
    {
     "data": {
      "text/plain": [
       "81"
      ]
     },
     "execution_count": 8,
     "metadata": {},
     "output_type": "execute_result"
    }
   ],
   "source": [
    "df1['availability'].nunique()"
   ]
  },
  {
   "cell_type": "code",
   "execution_count": 9,
   "id": "b69c3d5e",
   "metadata": {},
   "outputs": [
    {
     "data": {
      "text/plain": [
       "array(['19-Dec', 'Ready To Move', '18-May', '18-Feb', '18-Nov', '20-Dec',\n",
       "       '17-Oct', '21-Dec', '19-Sep', '20-Sep', '18-Mar', '20-Feb',\n",
       "       '18-Apr', '20-Aug', '18-Oct', '19-Mar', '17-Sep', '18-Dec',\n",
       "       '17-Aug', '19-Apr', '18-Jun', '22-Dec', '22-Jan', '18-Aug',\n",
       "       '19-Jan', '17-Jul', '18-Jul', '21-Jun', '20-May', '19-Aug',\n",
       "       '18-Sep', '17-May', '17-Jun', '21-May', '18-Jan', '20-Mar',\n",
       "       '17-Dec', '16-Mar', '19-Jun', '22-Jun', '19-Jul', '21-Feb',\n",
       "       'Immediate Possession', '19-May', '17-Nov', '20-Oct', '20-Jun',\n",
       "       '19-Feb', '21-Oct', '21-Jan', '17-Mar', '17-Apr', '22-May',\n",
       "       '19-Oct', '21-Jul', '21-Nov', '21-Mar', '16-Dec', '22-Mar',\n",
       "       '20-Jan', '21-Sep', '21-Aug', '14-Nov', '19-Nov', '15-Nov',\n",
       "       '16-Jul', '15-Jun', '17-Feb', '20-Nov', '20-Jul', '16-Sep',\n",
       "       '15-Oct', '15-Dec', '16-Oct', '22-Nov', '15-Aug', '17-Jan',\n",
       "       '16-Nov', '20-Apr', '16-Jan', '14-Jul'], dtype=object)"
      ]
     },
     "execution_count": 9,
     "metadata": {},
     "output_type": "execute_result"
    }
   ],
   "source": [
    "df1['availability'].unique()"
   ]
  },
  {
   "cell_type": "markdown",
   "id": "7af882e0",
   "metadata": {},
   "source": [
    "### Top 5 areas where houses are for Sale "
   ]
  },
  {
   "cell_type": "code",
   "execution_count": 10,
   "id": "495b9f62",
   "metadata": {},
   "outputs": [
    {
     "data": {
      "text/plain": [
       "Whitefield         540\n",
       "Sarjapur  Road     399\n",
       "Electronic City    302\n",
       "Kanakpura Road     273\n",
       "Thanisandra        234\n",
       "Name: location, dtype: int64"
      ]
     },
     "execution_count": 10,
     "metadata": {},
     "output_type": "execute_result"
    }
   ],
   "source": [
    "df1['location'].value_counts().head()"
   ]
  },
  {
   "cell_type": "markdown",
   "id": "b979a713",
   "metadata": {},
   "source": [
    "### Majority of the Super built-up area type are 'Ready To Move'"
   ]
  },
  {
   "cell_type": "code",
   "execution_count": 11,
   "id": "f7214e3f",
   "metadata": {},
   "outputs": [
    {
     "data": {
      "text/plain": [
       "area_type             availability \n",
       "Super built-up  Area  Ready To Move    6582\n",
       "Built-up  Area        Ready To Move    2145\n",
       "Plot  Area            Ready To Move    1790\n",
       "Super built-up  Area  18-May            242\n",
       "                      18-Apr            213\n",
       "                                       ... \n",
       "Plot  Area            17-Jun              1\n",
       "                      17-Feb              1\n",
       "                      17-Apr              1\n",
       "                      16-Mar              1\n",
       "                      20-Dec              1\n",
       "Name: availability, Length: 152, dtype: int64"
      ]
     },
     "execution_count": 11,
     "metadata": {},
     "output_type": "execute_result"
    }
   ],
   "source": [
    "df1.groupby(['area_type','availability'])['availability'].agg('count').sort_values(ascending=False)"
   ]
  },
  {
   "cell_type": "code",
   "execution_count": 12,
   "id": "550c8d9f",
   "metadata": {},
   "outputs": [
    {
     "data": {
      "text/plain": [
       "array(['2 BHK', '4 Bedroom', '3 BHK', '4 BHK', '6 Bedroom', '3 Bedroom',\n",
       "       '1 BHK', '1 RK', '1 Bedroom', '8 Bedroom', '2 Bedroom',\n",
       "       '7 Bedroom', '5 BHK', '7 BHK', '6 BHK', '5 Bedroom', '11 BHK',\n",
       "       '9 BHK', nan, '9 Bedroom', '27 BHK', '10 Bedroom', '11 Bedroom',\n",
       "       '10 BHK', '19 BHK', '16 BHK', '43 Bedroom', '14 BHK', '8 BHK',\n",
       "       '12 Bedroom', '13 BHK', '18 Bedroom'], dtype=object)"
      ]
     },
     "execution_count": 12,
     "metadata": {},
     "output_type": "execute_result"
    }
   ],
   "source": [
    "df1['size'].unique()"
   ]
  },
  {
   "cell_type": "markdown",
   "id": "fe7307c4",
   "metadata": {},
   "source": [
    "### Majority of the sample contains 2 and 3 BHK Houses"
   ]
  },
  {
   "cell_type": "code",
   "execution_count": 13,
   "id": "8efca547",
   "metadata": {},
   "outputs": [
    {
     "data": {
      "text/plain": [
       "2 BHK        5199\n",
       "3 BHK        4310\n",
       "4 Bedroom     826\n",
       "4 BHK         591\n",
       "3 Bedroom     547\n",
       "Name: size, dtype: int64"
      ]
     },
     "execution_count": 13,
     "metadata": {},
     "output_type": "execute_result"
    }
   ],
   "source": [
    "df1['size'].value_counts().head()"
   ]
  },
  {
   "cell_type": "code",
   "execution_count": 14,
   "id": "0709e7b7",
   "metadata": {},
   "outputs": [
    {
     "data": {
      "text/plain": [
       "1200         843\n",
       "1100         221\n",
       "1500         205\n",
       "2400         196\n",
       "600          180\n",
       "            ... \n",
       "755 - 770      1\n",
       "4723           1\n",
       "2176           1\n",
       "2370           1\n",
       "3309           1\n",
       "Name: total_sqft, Length: 2117, dtype: int64"
      ]
     },
     "execution_count": 14,
     "metadata": {},
     "output_type": "execute_result"
    }
   ],
   "source": [
    "df1['total_sqft'].value_counts().sort_values(ascending=False)"
   ]
  },
  {
   "cell_type": "markdown",
   "id": "142133a1",
   "metadata": {},
   "source": [
    "### Assuming availability and society columns have negligible impact on the house selling price, hence dropping them."
   ]
  },
  {
   "cell_type": "code",
   "execution_count": 15,
   "id": "92729293",
   "metadata": {},
   "outputs": [
    {
     "data": {
      "text/html": [
       "<div>\n",
       "<style scoped>\n",
       "    .dataframe tbody tr th:only-of-type {\n",
       "        vertical-align: middle;\n",
       "    }\n",
       "\n",
       "    .dataframe tbody tr th {\n",
       "        vertical-align: top;\n",
       "    }\n",
       "\n",
       "    .dataframe thead th {\n",
       "        text-align: right;\n",
       "    }\n",
       "</style>\n",
       "<table border=\"1\" class=\"dataframe\">\n",
       "  <thead>\n",
       "    <tr style=\"text-align: right;\">\n",
       "      <th></th>\n",
       "      <th>area_type</th>\n",
       "      <th>location</th>\n",
       "      <th>size</th>\n",
       "      <th>total_sqft</th>\n",
       "      <th>bath</th>\n",
       "      <th>balcony</th>\n",
       "      <th>price</th>\n",
       "    </tr>\n",
       "  </thead>\n",
       "  <tbody>\n",
       "    <tr>\n",
       "      <th>0</th>\n",
       "      <td>Super built-up  Area</td>\n",
       "      <td>Electronic City Phase II</td>\n",
       "      <td>2 BHK</td>\n",
       "      <td>1056</td>\n",
       "      <td>2.0</td>\n",
       "      <td>1.0</td>\n",
       "      <td>39.07</td>\n",
       "    </tr>\n",
       "    <tr>\n",
       "      <th>1</th>\n",
       "      <td>Plot  Area</td>\n",
       "      <td>Chikka Tirupathi</td>\n",
       "      <td>4 Bedroom</td>\n",
       "      <td>2600</td>\n",
       "      <td>5.0</td>\n",
       "      <td>3.0</td>\n",
       "      <td>120.00</td>\n",
       "    </tr>\n",
       "    <tr>\n",
       "      <th>2</th>\n",
       "      <td>Built-up  Area</td>\n",
       "      <td>Uttarahalli</td>\n",
       "      <td>3 BHK</td>\n",
       "      <td>1440</td>\n",
       "      <td>2.0</td>\n",
       "      <td>3.0</td>\n",
       "      <td>62.00</td>\n",
       "    </tr>\n",
       "    <tr>\n",
       "      <th>3</th>\n",
       "      <td>Super built-up  Area</td>\n",
       "      <td>Lingadheeranahalli</td>\n",
       "      <td>3 BHK</td>\n",
       "      <td>1521</td>\n",
       "      <td>3.0</td>\n",
       "      <td>1.0</td>\n",
       "      <td>95.00</td>\n",
       "    </tr>\n",
       "    <tr>\n",
       "      <th>4</th>\n",
       "      <td>Super built-up  Area</td>\n",
       "      <td>Kothanur</td>\n",
       "      <td>2 BHK</td>\n",
       "      <td>1200</td>\n",
       "      <td>2.0</td>\n",
       "      <td>1.0</td>\n",
       "      <td>51.00</td>\n",
       "    </tr>\n",
       "  </tbody>\n",
       "</table>\n",
       "</div>"
      ],
      "text/plain": [
       "              area_type                  location       size total_sqft  bath  \\\n",
       "0  Super built-up  Area  Electronic City Phase II      2 BHK       1056   2.0   \n",
       "1            Plot  Area          Chikka Tirupathi  4 Bedroom       2600   5.0   \n",
       "2        Built-up  Area               Uttarahalli      3 BHK       1440   2.0   \n",
       "3  Super built-up  Area        Lingadheeranahalli      3 BHK       1521   3.0   \n",
       "4  Super built-up  Area                  Kothanur      2 BHK       1200   2.0   \n",
       "\n",
       "   balcony   price  \n",
       "0      1.0   39.07  \n",
       "1      3.0  120.00  \n",
       "2      3.0   62.00  \n",
       "3      1.0   95.00  \n",
       "4      1.0   51.00  "
      ]
     },
     "execution_count": 15,
     "metadata": {},
     "output_type": "execute_result"
    }
   ],
   "source": [
    "df2 = df1.drop(['availability','society'],axis='columns')\n",
    "df2.head()"
   ]
  },
  {
   "cell_type": "code",
   "execution_count": 16,
   "id": "4b63a677",
   "metadata": {},
   "outputs": [
    {
     "data": {
      "text/html": [
       "<div>\n",
       "<style scoped>\n",
       "    .dataframe tbody tr th:only-of-type {\n",
       "        vertical-align: middle;\n",
       "    }\n",
       "\n",
       "    .dataframe tbody tr th {\n",
       "        vertical-align: top;\n",
       "    }\n",
       "\n",
       "    .dataframe thead th {\n",
       "        text-align: right;\n",
       "    }\n",
       "</style>\n",
       "<table border=\"1\" class=\"dataframe\">\n",
       "  <thead>\n",
       "    <tr style=\"text-align: right;\">\n",
       "      <th></th>\n",
       "      <th>min</th>\n",
       "      <th>mean</th>\n",
       "      <th>max</th>\n",
       "    </tr>\n",
       "    <tr>\n",
       "      <th>area_type</th>\n",
       "      <th></th>\n",
       "      <th></th>\n",
       "      <th></th>\n",
       "    </tr>\n",
       "  </thead>\n",
       "  <tbody>\n",
       "    <tr>\n",
       "      <th>Built-up  Area</th>\n",
       "      <td>9.00</td>\n",
       "      <td>104.285498</td>\n",
       "      <td>2050.0</td>\n",
       "    </tr>\n",
       "    <tr>\n",
       "      <th>Carpet  Area</th>\n",
       "      <td>13.00</td>\n",
       "      <td>89.502356</td>\n",
       "      <td>500.0</td>\n",
       "    </tr>\n",
       "    <tr>\n",
       "      <th>Plot  Area</th>\n",
       "      <td>8.44</td>\n",
       "      <td>208.495486</td>\n",
       "      <td>3600.0</td>\n",
       "    </tr>\n",
       "    <tr>\n",
       "      <th>Super built-up  Area</th>\n",
       "      <td>8.00</td>\n",
       "      <td>92.971757</td>\n",
       "      <td>2912.0</td>\n",
       "    </tr>\n",
       "  </tbody>\n",
       "</table>\n",
       "</div>"
      ],
      "text/plain": [
       "                        min        mean     max\n",
       "area_type                                      \n",
       "Built-up  Area         9.00  104.285498  2050.0\n",
       "Carpet  Area          13.00   89.502356   500.0\n",
       "Plot  Area             8.44  208.495486  3600.0\n",
       "Super built-up  Area   8.00   92.971757  2912.0"
      ]
     },
     "execution_count": 16,
     "metadata": {},
     "output_type": "execute_result"
    }
   ],
   "source": [
    "df1.groupby('area_type')['price'].agg(['min','mean','max'])"
   ]
  },
  {
   "cell_type": "code",
   "execution_count": 17,
   "id": "e013a56a",
   "metadata": {},
   "outputs": [
    {
     "data": {
      "text/plain": [
       "area_type       0\n",
       "location        1\n",
       "size           16\n",
       "total_sqft      0\n",
       "bath           73\n",
       "balcony       609\n",
       "price           0\n",
       "dtype: int64"
      ]
     },
     "execution_count": 17,
     "metadata": {},
     "output_type": "execute_result"
    }
   ],
   "source": [
    "df2.isnull().sum()"
   ]
  },
  {
   "cell_type": "code",
   "execution_count": 18,
   "id": "0b5e52c6",
   "metadata": {},
   "outputs": [
    {
     "data": {
      "image/png": "[encoded data removed]",
      "text/plain": [
       "<Figure size 1440x720 with 1 Axes>"
      ]
     },
     "metadata": {},
     "output_type": "display_data"
    }
   ],
   "source": [
    "explode = (0.2, 0, 0, 0, 0)\n",
    "plt.pie(df2['balcony'].value_counts(dropna=False), labels=df2['balcony'].value_counts(dropna=False).index, \n",
    "        explode=explode, shadow=True, autopct='%0.1f%%', normalize=True)\n",
    "plt.legend(title='Balcony Count')\n",
    "plt.show()"
   ]
  },
  {
   "cell_type": "markdown",
   "id": "c79a5b1f",
   "metadata": {},
   "source": [
    "### Since 4.6% of Balcony values are NaN, either because of data entry error or data corruption, it is better to assume that it should be 0.0 rather than any other count since if it is above zero it should have fallen into other categories and wouldn't be left NaN."
   ]
  },
  {
   "cell_type": "code",
   "execution_count": 19,
   "id": "f2b82461",
   "metadata": {},
   "outputs": [],
   "source": [
    "df2['balcony'].fillna(0.0, inplace=True)"
   ]
  },
  {
   "cell_type": "code",
   "execution_count": 20,
   "id": "586ae6c2",
   "metadata": {},
   "outputs": [
    {
     "data": {
      "text/plain": [
       "2.0    5113\n",
       "1.0    4897\n",
       "3.0    1672\n",
       "0.0    1638\n",
       "Name: balcony, dtype: int64"
      ]
     },
     "execution_count": 20,
     "metadata": {},
     "output_type": "execute_result"
    }
   ],
   "source": [
    "df2['balcony'].value_counts(dropna=False)"
   ]
  },
  {
   "cell_type": "code",
   "execution_count": 21,
   "id": "863daedb",
   "metadata": {},
   "outputs": [
    {
     "data": {
      "text/plain": [
       "73"
      ]
     },
     "execution_count": 21,
     "metadata": {},
     "output_type": "execute_result"
    }
   ],
   "source": [
    "df2['bath'].isnull().sum()"
   ]
  },
  {
   "cell_type": "code",
   "execution_count": 22,
   "id": "fba50f1c",
   "metadata": {},
   "outputs": [
    {
     "data": {
      "text/plain": [
       "2.0     6908\n",
       "3.0     3286\n",
       "4.0     1226\n",
       "1.0      788\n",
       "5.0      524\n",
       "6.0      273\n",
       "7.0      102\n",
       "8.0       64\n",
       "9.0       43\n",
       "10.0      13\n",
       "12.0       7\n",
       "11.0       3\n",
       "13.0       3\n",
       "16.0       2\n",
       "14.0       1\n",
       "40.0       1\n",
       "18.0       1\n",
       "27.0       1\n",
       "15.0       1\n",
       "Name: bath, dtype: int64"
      ]
     },
     "execution_count": 22,
     "metadata": {},
     "output_type": "execute_result"
    }
   ],
   "source": [
    "df2['bath'].value_counts()"
   ]
  },
  {
   "cell_type": "code",
   "execution_count": 23,
   "id": "369bacf8",
   "metadata": {},
   "outputs": [
    {
     "data": {
      "text/plain": [
       "mean      2.69261\n",
       "median    2.00000\n",
       "Name: bath, dtype: float64"
      ]
     },
     "execution_count": 23,
     "metadata": {},
     "output_type": "execute_result"
    }
   ],
   "source": [
    "df2['bath'].agg(['mean','median'])"
   ]
  },
  {
   "cell_type": "markdown",
   "id": "4e4dfa98",
   "metadata": {},
   "source": [
    "### Considering the mean of 2.6 value for number of bathrooms, we can plug in median of 2 for bath, since majority of the sample already has value 2."
   ]
  },
  {
   "cell_type": "code",
   "execution_count": 24,
   "id": "21cbb873",
   "metadata": {},
   "outputs": [],
   "source": [
    "df2['bath'].fillna(2, inplace=True)"
   ]
  },
  {
   "cell_type": "code",
   "execution_count": 25,
   "id": "953060e2",
   "metadata": {},
   "outputs": [
    {
     "data": {
      "text/html": [
       "<div>\n",
       "<style scoped>\n",
       "    .dataframe tbody tr th:only-of-type {\n",
       "        vertical-align: middle;\n",
       "    }\n",
       "\n",
       "    .dataframe tbody tr th {\n",
       "        vertical-align: top;\n",
       "    }\n",
       "\n",
       "    .dataframe thead th {\n",
       "        text-align: right;\n",
       "    }\n",
       "</style>\n",
       "<table border=\"1\" class=\"dataframe\">\n",
       "  <thead>\n",
       "    <tr style=\"text-align: right;\">\n",
       "      <th></th>\n",
       "      <th>area_type</th>\n",
       "      <th>location</th>\n",
       "      <th>size</th>\n",
       "      <th>total_sqft</th>\n",
       "      <th>bath</th>\n",
       "      <th>balcony</th>\n",
       "      <th>price</th>\n",
       "    </tr>\n",
       "  </thead>\n",
       "  <tbody>\n",
       "    <tr>\n",
       "      <th>579</th>\n",
       "      <td>Plot  Area</td>\n",
       "      <td>Sarjapur  Road</td>\n",
       "      <td>NaN</td>\n",
       "      <td>1200 - 2400</td>\n",
       "      <td>2.0</td>\n",
       "      <td>0.0</td>\n",
       "      <td>34.185</td>\n",
       "    </tr>\n",
       "    <tr>\n",
       "      <th>1775</th>\n",
       "      <td>Plot  Area</td>\n",
       "      <td>IVC Road</td>\n",
       "      <td>NaN</td>\n",
       "      <td>2000 - 5634</td>\n",
       "      <td>2.0</td>\n",
       "      <td>0.0</td>\n",
       "      <td>124.000</td>\n",
       "    </tr>\n",
       "    <tr>\n",
       "      <th>2264</th>\n",
       "      <td>Plot  Area</td>\n",
       "      <td>Banashankari</td>\n",
       "      <td>NaN</td>\n",
       "      <td>2400</td>\n",
       "      <td>2.0</td>\n",
       "      <td>0.0</td>\n",
       "      <td>460.000</td>\n",
       "    </tr>\n",
       "    <tr>\n",
       "      <th>2809</th>\n",
       "      <td>Plot  Area</td>\n",
       "      <td>Sarjapur  Road</td>\n",
       "      <td>NaN</td>\n",
       "      <td>1200 - 2400</td>\n",
       "      <td>2.0</td>\n",
       "      <td>0.0</td>\n",
       "      <td>28.785</td>\n",
       "    </tr>\n",
       "    <tr>\n",
       "      <th>2862</th>\n",
       "      <td>Plot  Area</td>\n",
       "      <td>Devanahalli</td>\n",
       "      <td>NaN</td>\n",
       "      <td>1500 - 2400</td>\n",
       "      <td>2.0</td>\n",
       "      <td>0.0</td>\n",
       "      <td>46.800</td>\n",
       "    </tr>\n",
       "    <tr>\n",
       "      <th>5333</th>\n",
       "      <td>Plot  Area</td>\n",
       "      <td>Devanahalli</td>\n",
       "      <td>NaN</td>\n",
       "      <td>2100 - 5405</td>\n",
       "      <td>2.0</td>\n",
       "      <td>0.0</td>\n",
       "      <td>177.115</td>\n",
       "    </tr>\n",
       "    <tr>\n",
       "      <th>6423</th>\n",
       "      <td>Plot  Area</td>\n",
       "      <td>Whitefield</td>\n",
       "      <td>NaN</td>\n",
       "      <td>2324</td>\n",
       "      <td>2.0</td>\n",
       "      <td>0.0</td>\n",
       "      <td>26.730</td>\n",
       "    </tr>\n",
       "    <tr>\n",
       "      <th>6636</th>\n",
       "      <td>Plot  Area</td>\n",
       "      <td>Jigani</td>\n",
       "      <td>NaN</td>\n",
       "      <td>1500</td>\n",
       "      <td>2.0</td>\n",
       "      <td>0.0</td>\n",
       "      <td>25.490</td>\n",
       "    </tr>\n",
       "    <tr>\n",
       "      <th>6719</th>\n",
       "      <td>Plot  Area</td>\n",
       "      <td>Hoskote</td>\n",
       "      <td>NaN</td>\n",
       "      <td>800 - 2660</td>\n",
       "      <td>2.0</td>\n",
       "      <td>0.0</td>\n",
       "      <td>28.545</td>\n",
       "    </tr>\n",
       "    <tr>\n",
       "      <th>7680</th>\n",
       "      <td>Plot  Area</td>\n",
       "      <td>Kasavanhalli</td>\n",
       "      <td>NaN</td>\n",
       "      <td>5000</td>\n",
       "      <td>2.0</td>\n",
       "      <td>0.0</td>\n",
       "      <td>400.000</td>\n",
       "    </tr>\n",
       "    <tr>\n",
       "      <th>8306</th>\n",
       "      <td>Plot  Area</td>\n",
       "      <td>Anekal</td>\n",
       "      <td>NaN</td>\n",
       "      <td>1453</td>\n",
       "      <td>2.0</td>\n",
       "      <td>0.0</td>\n",
       "      <td>16.500</td>\n",
       "    </tr>\n",
       "    <tr>\n",
       "      <th>8565</th>\n",
       "      <td>Plot  Area</td>\n",
       "      <td>Carmelaram</td>\n",
       "      <td>NaN</td>\n",
       "      <td>2000</td>\n",
       "      <td>2.0</td>\n",
       "      <td>0.0</td>\n",
       "      <td>120.000</td>\n",
       "    </tr>\n",
       "    <tr>\n",
       "      <th>8703</th>\n",
       "      <td>Plot  Area</td>\n",
       "      <td>Mysore Road</td>\n",
       "      <td>NaN</td>\n",
       "      <td>1200 - 2400</td>\n",
       "      <td>2.0</td>\n",
       "      <td>0.0</td>\n",
       "      <td>42.300</td>\n",
       "    </tr>\n",
       "    <tr>\n",
       "      <th>10634</th>\n",
       "      <td>Plot  Area</td>\n",
       "      <td>Rajankunte</td>\n",
       "      <td>NaN</td>\n",
       "      <td>1575</td>\n",
       "      <td>2.0</td>\n",
       "      <td>0.0</td>\n",
       "      <td>31.110</td>\n",
       "    </tr>\n",
       "    <tr>\n",
       "      <th>11019</th>\n",
       "      <td>Plot  Area</td>\n",
       "      <td>Yelahanka</td>\n",
       "      <td>NaN</td>\n",
       "      <td>1200 - 1800</td>\n",
       "      <td>2.0</td>\n",
       "      <td>0.0</td>\n",
       "      <td>12.750</td>\n",
       "    </tr>\n",
       "    <tr>\n",
       "      <th>11569</th>\n",
       "      <td>Plot  Area</td>\n",
       "      <td>Hosur Road</td>\n",
       "      <td>NaN</td>\n",
       "      <td>1350</td>\n",
       "      <td>2.0</td>\n",
       "      <td>0.0</td>\n",
       "      <td>8.440</td>\n",
       "    </tr>\n",
       "  </tbody>\n",
       "</table>\n",
       "</div>"
      ],
      "text/plain": [
       "        area_type        location size   total_sqft  bath  balcony    price\n",
       "579    Plot  Area  Sarjapur  Road  NaN  1200 - 2400   2.0      0.0   34.185\n",
       "1775   Plot  Area        IVC Road  NaN  2000 - 5634   2.0      0.0  124.000\n",
       "2264   Plot  Area    Banashankari  NaN         2400   2.0      0.0  460.000\n",
       "2809   Plot  Area  Sarjapur  Road  NaN  1200 - 2400   2.0      0.0   28.785\n",
       "2862   Plot  Area     Devanahalli  NaN  1500 - 2400   2.0      0.0   46.800\n",
       "5333   Plot  Area     Devanahalli  NaN  2100 - 5405   2.0      0.0  177.115\n",
       "6423   Plot  Area      Whitefield  NaN         2324   2.0      0.0   26.730\n",
       "6636   Plot  Area          Jigani  NaN         1500   2.0      0.0   25.490\n",
       "6719   Plot  Area         Hoskote  NaN   800 - 2660   2.0      0.0   28.545\n",
       "7680   Plot  Area    Kasavanhalli  NaN         5000   2.0      0.0  400.000\n",
       "8306   Plot  Area          Anekal  NaN         1453   2.0      0.0   16.500\n",
       "8565   Plot  Area      Carmelaram  NaN         2000   2.0      0.0  120.000\n",
       "8703   Plot  Area     Mysore Road  NaN  1200 - 2400   2.0      0.0   42.300\n",
       "10634  Plot  Area      Rajankunte  NaN         1575   2.0      0.0   31.110\n",
       "11019  Plot  Area       Yelahanka  NaN  1200 - 1800   2.0      0.0   12.750\n",
       "11569  Plot  Area      Hosur Road  NaN         1350   2.0      0.0    8.440"
      ]
     },
     "execution_count": 25,
     "metadata": {},
     "output_type": "execute_result"
    }
   ],
   "source": [
    "df2[df2['size'].isnull()]"
   ]
  },
  {
   "cell_type": "markdown",
   "id": "b778efed",
   "metadata": {},
   "source": [
    "### Since all the missing values of size has bath value of 2.0, and majority of the sample contains size as 2 BHK/Bedroom, it is safe to plug in value 2 BHK/Bedroom as size for the above 17 records."
   ]
  },
  {
   "cell_type": "code",
   "execution_count": 26,
   "id": "1f6bc5f5",
   "metadata": {},
   "outputs": [
    {
     "data": {
      "text/plain": [
       "size       bath\n",
       "1 BHK      2.0       36\n",
       "1 Bedroom  2.0       11\n",
       "2 BHK      2.0     5039\n",
       "2 Bedroom  2.0      248\n",
       "3 BHK      2.0     1437\n",
       "3 Bedroom  2.0      102\n",
       "4 BHK      2.0       25\n",
       "4 Bedroom  2.0       59\n",
       "5 BHK      2.0        2\n",
       "5 Bedroom  2.0        5\n",
       "7 Bedroom  2.0        1\n",
       "Name: bath, dtype: int64"
      ]
     },
     "execution_count": 26,
     "metadata": {},
     "output_type": "execute_result"
    }
   ],
   "source": [
    "df2[df2['bath'] == 2].groupby(['size','bath'])['bath'].agg('count')"
   ]
  },
  {
   "cell_type": "code",
   "execution_count": 27,
   "id": "45d1060b",
   "metadata": {},
   "outputs": [],
   "source": [
    "df2['size'].fillna('2 BHK', inplace=True)"
   ]
  },
  {
   "cell_type": "code",
   "execution_count": 28,
   "id": "e6176203",
   "metadata": {},
   "outputs": [
    {
     "data": {
      "text/html": [
       "<div>\n",
       "<style scoped>\n",
       "    .dataframe tbody tr th:only-of-type {\n",
       "        vertical-align: middle;\n",
       "    }\n",
       "\n",
       "    .dataframe tbody tr th {\n",
       "        vertical-align: top;\n",
       "    }\n",
       "\n",
       "    .dataframe thead th {\n",
       "        text-align: right;\n",
       "    }\n",
       "</style>\n",
       "<table border=\"1\" class=\"dataframe\">\n",
       "  <thead>\n",
       "    <tr style=\"text-align: right;\">\n",
       "      <th></th>\n",
       "      <th>area_type</th>\n",
       "      <th>location</th>\n",
       "      <th>size</th>\n",
       "      <th>total_sqft</th>\n",
       "      <th>bath</th>\n",
       "      <th>balcony</th>\n",
       "      <th>price</th>\n",
       "    </tr>\n",
       "  </thead>\n",
       "  <tbody>\n",
       "    <tr>\n",
       "      <th>568</th>\n",
       "      <td>Super built-up  Area</td>\n",
       "      <td>NaN</td>\n",
       "      <td>3 BHK</td>\n",
       "      <td>1600</td>\n",
       "      <td>3.0</td>\n",
       "      <td>2.0</td>\n",
       "      <td>86.0</td>\n",
       "    </tr>\n",
       "  </tbody>\n",
       "</table>\n",
       "</div>"
      ],
      "text/plain": [
       "                area_type location   size total_sqft  bath  balcony  price\n",
       "568  Super built-up  Area      NaN  3 BHK       1600   3.0      2.0   86.0"
      ]
     },
     "execution_count": 28,
     "metadata": {},
     "output_type": "execute_result"
    }
   ],
   "source": [
    "df2[df2['location'].isnull()]"
   ]
  },
  {
   "cell_type": "code",
   "execution_count": 29,
   "id": "6144206e",
   "metadata": {},
   "outputs": [
    {
     "data": {
      "text/plain": [
       "Whitefield             540\n",
       "Sarjapur  Road         399\n",
       "Electronic City        302\n",
       "Kanakpura Road         273\n",
       "Thanisandra            234\n",
       "                      ... \n",
       " Bhoganhalli             1\n",
       "poornaprajna layout      1\n",
       "1Hoysalanagar            1\n",
       "Akash Nagar              1\n",
       "Banagirinagar            1\n",
       "Name: location, Length: 1305, dtype: int64"
      ]
     },
     "execution_count": 29,
     "metadata": {},
     "output_type": "execute_result"
    }
   ],
   "source": [
    "df2['location'].value_counts()"
   ]
  },
  {
   "cell_type": "markdown",
   "id": "adbaf124",
   "metadata": {},
   "source": [
    "### Since only a single record doesn't have location value, it shouldn't impact much if we fill in the median value of the location i.e 'Whitefield'."
   ]
  },
  {
   "cell_type": "code",
   "execution_count": 30,
   "id": "1be371d4",
   "metadata": {},
   "outputs": [],
   "source": [
    "df2['location'].fillna('Whitefield', inplace=True)"
   ]
  },
  {
   "cell_type": "code",
   "execution_count": 31,
   "id": "bf586710",
   "metadata": {},
   "outputs": [
    {
     "data": {
      "text/plain": [
       "area_type     0\n",
       "location      0\n",
       "size          0\n",
       "total_sqft    0\n",
       "bath          0\n",
       "balcony       0\n",
       "price         0\n",
       "dtype: int64"
      ]
     },
     "execution_count": 31,
     "metadata": {},
     "output_type": "execute_result"
    }
   ],
   "source": [
    "df2.isnull().sum()"
   ]
  },
  {
   "cell_type": "markdown",
   "id": "a493ce27",
   "metadata": {},
   "source": [
    "### All the missing values in the sample have been negotiated with reasons and are plugged in with suitable values with justified assumtions."
   ]
  },
  {
   "cell_type": "code",
   "execution_count": 32,
   "id": "5e1f8bb3",
   "metadata": {},
   "outputs": [
    {
     "data": {
      "text/html": [
       "<div>\n",
       "<style scoped>\n",
       "    .dataframe tbody tr th:only-of-type {\n",
       "        vertical-align: middle;\n",
       "    }\n",
       "\n",
       "    .dataframe tbody tr th {\n",
       "        vertical-align: top;\n",
       "    }\n",
       "\n",
       "    .dataframe thead th {\n",
       "        text-align: right;\n",
       "    }\n",
       "</style>\n",
       "<table border=\"1\" class=\"dataframe\">\n",
       "  <thead>\n",
       "    <tr style=\"text-align: right;\">\n",
       "      <th></th>\n",
       "      <th>area_type</th>\n",
       "      <th>location</th>\n",
       "      <th>size</th>\n",
       "      <th>total_sqft</th>\n",
       "      <th>bath</th>\n",
       "      <th>balcony</th>\n",
       "      <th>price</th>\n",
       "    </tr>\n",
       "  </thead>\n",
       "  <tbody>\n",
       "    <tr>\n",
       "      <th>0</th>\n",
       "      <td>Super built-up  Area</td>\n",
       "      <td>Electronic City Phase II</td>\n",
       "      <td>2 BHK</td>\n",
       "      <td>1056</td>\n",
       "      <td>2.0</td>\n",
       "      <td>1.0</td>\n",
       "      <td>39.07</td>\n",
       "    </tr>\n",
       "    <tr>\n",
       "      <th>1</th>\n",
       "      <td>Plot  Area</td>\n",
       "      <td>Chikka Tirupathi</td>\n",
       "      <td>4 Bedroom</td>\n",
       "      <td>2600</td>\n",
       "      <td>5.0</td>\n",
       "      <td>3.0</td>\n",
       "      <td>120.00</td>\n",
       "    </tr>\n",
       "    <tr>\n",
       "      <th>2</th>\n",
       "      <td>Built-up  Area</td>\n",
       "      <td>Uttarahalli</td>\n",
       "      <td>3 BHK</td>\n",
       "      <td>1440</td>\n",
       "      <td>2.0</td>\n",
       "      <td>3.0</td>\n",
       "      <td>62.00</td>\n",
       "    </tr>\n",
       "    <tr>\n",
       "      <th>3</th>\n",
       "      <td>Super built-up  Area</td>\n",
       "      <td>Lingadheeranahalli</td>\n",
       "      <td>3 BHK</td>\n",
       "      <td>1521</td>\n",
       "      <td>3.0</td>\n",
       "      <td>1.0</td>\n",
       "      <td>95.00</td>\n",
       "    </tr>\n",
       "    <tr>\n",
       "      <th>4</th>\n",
       "      <td>Super built-up  Area</td>\n",
       "      <td>Kothanur</td>\n",
       "      <td>2 BHK</td>\n",
       "      <td>1200</td>\n",
       "      <td>2.0</td>\n",
       "      <td>1.0</td>\n",
       "      <td>51.00</td>\n",
       "    </tr>\n",
       "  </tbody>\n",
       "</table>\n",
       "</div>"
      ],
      "text/plain": [
       "              area_type                  location       size total_sqft  bath  \\\n",
       "0  Super built-up  Area  Electronic City Phase II      2 BHK       1056   2.0   \n",
       "1            Plot  Area          Chikka Tirupathi  4 Bedroom       2600   5.0   \n",
       "2        Built-up  Area               Uttarahalli      3 BHK       1440   2.0   \n",
       "3  Super built-up  Area        Lingadheeranahalli      3 BHK       1521   3.0   \n",
       "4  Super built-up  Area                  Kothanur      2 BHK       1200   2.0   \n",
       "\n",
       "   balcony   price  \n",
       "0      1.0   39.07  \n",
       "1      3.0  120.00  \n",
       "2      3.0   62.00  \n",
       "3      1.0   95.00  \n",
       "4      1.0   51.00  "
      ]
     },
     "execution_count": 32,
     "metadata": {},
     "output_type": "execute_result"
    }
   ],
   "source": [
    "df2.head()"
   ]
  },
  {
   "cell_type": "code",
   "execution_count": 33,
   "id": "b4a7ae58",
   "metadata": {},
   "outputs": [
    {
     "data": {
      "text/plain": [
       "array(['2 BHK', '4 Bedroom', '3 BHK', '4 BHK', '6 Bedroom', '3 Bedroom',\n",
       "       '1 BHK', '1 RK', '1 Bedroom', '8 Bedroom', '2 Bedroom',\n",
       "       '7 Bedroom', '5 BHK', '7 BHK', '6 BHK', '5 Bedroom', '11 BHK',\n",
       "       '9 BHK', '9 Bedroom', '27 BHK', '10 Bedroom', '11 Bedroom',\n",
       "       '10 BHK', '19 BHK', '16 BHK', '43 Bedroom', '14 BHK', '8 BHK',\n",
       "       '12 Bedroom', '13 BHK', '18 Bedroom'], dtype=object)"
      ]
     },
     "execution_count": 33,
     "metadata": {},
     "output_type": "execute_result"
    }
   ],
   "source": [
    "df2['size'].unique()"
   ]
  },
  {
   "cell_type": "code",
   "execution_count": 34,
   "id": "72e138b5",
   "metadata": {},
   "outputs": [],
   "source": [
    "df2['bhk'] = df2['size'].apply(lambda x: int(x.split(' ')[0]))"
   ]
  },
  {
   "cell_type": "code",
   "execution_count": 35,
   "id": "c15d87b3",
   "metadata": {},
   "outputs": [
    {
     "data": {
      "text/html": [
       "<div>\n",
       "<style scoped>\n",
       "    .dataframe tbody tr th:only-of-type {\n",
       "        vertical-align: middle;\n",
       "    }\n",
       "\n",
       "    .dataframe tbody tr th {\n",
       "        vertical-align: top;\n",
       "    }\n",
       "\n",
       "    .dataframe thead th {\n",
       "        text-align: right;\n",
       "    }\n",
       "</style>\n",
       "<table border=\"1\" class=\"dataframe\">\n",
       "  <thead>\n",
       "    <tr style=\"text-align: right;\">\n",
       "      <th></th>\n",
       "      <th>area_type</th>\n",
       "      <th>location</th>\n",
       "      <th>size</th>\n",
       "      <th>total_sqft</th>\n",
       "      <th>bath</th>\n",
       "      <th>balcony</th>\n",
       "      <th>price</th>\n",
       "      <th>bhk</th>\n",
       "    </tr>\n",
       "  </thead>\n",
       "  <tbody>\n",
       "    <tr>\n",
       "      <th>0</th>\n",
       "      <td>Super built-up  Area</td>\n",
       "      <td>Electronic City Phase II</td>\n",
       "      <td>2 BHK</td>\n",
       "      <td>1056</td>\n",
       "      <td>2.0</td>\n",
       "      <td>1.0</td>\n",
       "      <td>39.07</td>\n",
       "      <td>2</td>\n",
       "    </tr>\n",
       "    <tr>\n",
       "      <th>1</th>\n",
       "      <td>Plot  Area</td>\n",
       "      <td>Chikka Tirupathi</td>\n",
       "      <td>4 Bedroom</td>\n",
       "      <td>2600</td>\n",
       "      <td>5.0</td>\n",
       "      <td>3.0</td>\n",
       "      <td>120.00</td>\n",
       "      <td>4</td>\n",
       "    </tr>\n",
       "    <tr>\n",
       "      <th>2</th>\n",
       "      <td>Built-up  Area</td>\n",
       "      <td>Uttarahalli</td>\n",
       "      <td>3 BHK</td>\n",
       "      <td>1440</td>\n",
       "      <td>2.0</td>\n",
       "      <td>3.0</td>\n",
       "      <td>62.00</td>\n",
       "      <td>3</td>\n",
       "    </tr>\n",
       "    <tr>\n",
       "      <th>3</th>\n",
       "      <td>Super built-up  Area</td>\n",
       "      <td>Lingadheeranahalli</td>\n",
       "      <td>3 BHK</td>\n",
       "      <td>1521</td>\n",
       "      <td>3.0</td>\n",
       "      <td>1.0</td>\n",
       "      <td>95.00</td>\n",
       "      <td>3</td>\n",
       "    </tr>\n",
       "    <tr>\n",
       "      <th>4</th>\n",
       "      <td>Super built-up  Area</td>\n",
       "      <td>Kothanur</td>\n",
       "      <td>2 BHK</td>\n",
       "      <td>1200</td>\n",
       "      <td>2.0</td>\n",
       "      <td>1.0</td>\n",
       "      <td>51.00</td>\n",
       "      <td>2</td>\n",
       "    </tr>\n",
       "  </tbody>\n",
       "</table>\n",
       "</div>"
      ],
      "text/plain": [
       "              area_type                  location       size total_sqft  bath  \\\n",
       "0  Super built-up  Area  Electronic City Phase II      2 BHK       1056   2.0   \n",
       "1            Plot  Area          Chikka Tirupathi  4 Bedroom       2600   5.0   \n",
       "2        Built-up  Area               Uttarahalli      3 BHK       1440   2.0   \n",
       "3  Super built-up  Area        Lingadheeranahalli      3 BHK       1521   3.0   \n",
       "4  Super built-up  Area                  Kothanur      2 BHK       1200   2.0   \n",
       "\n",
       "   balcony   price  bhk  \n",
       "0      1.0   39.07    2  \n",
       "1      3.0  120.00    4  \n",
       "2      3.0   62.00    3  \n",
       "3      1.0   95.00    3  \n",
       "4      1.0   51.00    2  "
      ]
     },
     "execution_count": 35,
     "metadata": {},
     "output_type": "execute_result"
    }
   ],
   "source": [
    "df2.head()"
   ]
  },
  {
   "cell_type": "markdown",
   "id": "ac06768f",
   "metadata": {},
   "source": [
    "### Assuming essentially BHK & Bedroom as similar, we have negotiated the size column by creating a new column (bhk) with only the numeric values"
   ]
  },
  {
   "cell_type": "code",
   "execution_count": 36,
   "id": "93312e0f",
   "metadata": {},
   "outputs": [
    {
     "data": {
      "text/html": [
       "<div>\n",
       "<style scoped>\n",
       "    .dataframe tbody tr th:only-of-type {\n",
       "        vertical-align: middle;\n",
       "    }\n",
       "\n",
       "    .dataframe tbody tr th {\n",
       "        vertical-align: top;\n",
       "    }\n",
       "\n",
       "    .dataframe thead th {\n",
       "        text-align: right;\n",
       "    }\n",
       "</style>\n",
       "<table border=\"1\" class=\"dataframe\">\n",
       "  <thead>\n",
       "    <tr style=\"text-align: right;\">\n",
       "      <th></th>\n",
       "      <th>area_type</th>\n",
       "      <th>location</th>\n",
       "      <th>total_sqft</th>\n",
       "      <th>bath</th>\n",
       "      <th>balcony</th>\n",
       "      <th>price</th>\n",
       "      <th>bhk</th>\n",
       "    </tr>\n",
       "  </thead>\n",
       "  <tbody>\n",
       "    <tr>\n",
       "      <th>0</th>\n",
       "      <td>Super built-up  Area</td>\n",
       "      <td>Electronic City Phase II</td>\n",
       "      <td>1056</td>\n",
       "      <td>2.0</td>\n",
       "      <td>1.0</td>\n",
       "      <td>39.07</td>\n",
       "      <td>2</td>\n",
       "    </tr>\n",
       "    <tr>\n",
       "      <th>1</th>\n",
       "      <td>Plot  Area</td>\n",
       "      <td>Chikka Tirupathi</td>\n",
       "      <td>2600</td>\n",
       "      <td>5.0</td>\n",
       "      <td>3.0</td>\n",
       "      <td>120.00</td>\n",
       "      <td>4</td>\n",
       "    </tr>\n",
       "    <tr>\n",
       "      <th>2</th>\n",
       "      <td>Built-up  Area</td>\n",
       "      <td>Uttarahalli</td>\n",
       "      <td>1440</td>\n",
       "      <td>2.0</td>\n",
       "      <td>3.0</td>\n",
       "      <td>62.00</td>\n",
       "      <td>3</td>\n",
       "    </tr>\n",
       "    <tr>\n",
       "      <th>3</th>\n",
       "      <td>Super built-up  Area</td>\n",
       "      <td>Lingadheeranahalli</td>\n",
       "      <td>1521</td>\n",
       "      <td>3.0</td>\n",
       "      <td>1.0</td>\n",
       "      <td>95.00</td>\n",
       "      <td>3</td>\n",
       "    </tr>\n",
       "    <tr>\n",
       "      <th>4</th>\n",
       "      <td>Super built-up  Area</td>\n",
       "      <td>Kothanur</td>\n",
       "      <td>1200</td>\n",
       "      <td>2.0</td>\n",
       "      <td>1.0</td>\n",
       "      <td>51.00</td>\n",
       "      <td>2</td>\n",
       "    </tr>\n",
       "  </tbody>\n",
       "</table>\n",
       "</div>"
      ],
      "text/plain": [
       "              area_type                  location total_sqft  bath  balcony  \\\n",
       "0  Super built-up  Area  Electronic City Phase II       1056   2.0      1.0   \n",
       "1            Plot  Area          Chikka Tirupathi       2600   5.0      3.0   \n",
       "2        Built-up  Area               Uttarahalli       1440   2.0      3.0   \n",
       "3  Super built-up  Area        Lingadheeranahalli       1521   3.0      1.0   \n",
       "4  Super built-up  Area                  Kothanur       1200   2.0      1.0   \n",
       "\n",
       "    price  bhk  \n",
       "0   39.07    2  \n",
       "1  120.00    4  \n",
       "2   62.00    3  \n",
       "3   95.00    3  \n",
       "4   51.00    2  "
      ]
     },
     "execution_count": 36,
     "metadata": {},
     "output_type": "execute_result"
    }
   ],
   "source": [
    "df3 = df2.drop('size', axis='columns')\n",
    "df3.head()"
   ]
  },
  {
   "cell_type": "code",
   "execution_count": 37,
   "id": "ed17c81e",
   "metadata": {},
   "outputs": [
    {
     "data": {
      "text/plain": [
       "array([ 2,  4,  3,  6,  1,  8,  7,  5, 11,  9, 27, 10, 19, 16, 43, 14, 12,\n",
       "       13, 18], dtype=int64)"
      ]
     },
     "execution_count": 37,
     "metadata": {},
     "output_type": "execute_result"
    }
   ],
   "source": [
    "df3['bhk'].unique()"
   ]
  },
  {
   "cell_type": "code",
   "execution_count": 38,
   "id": "ce38d21d",
   "metadata": {},
   "outputs": [
    {
     "data": {
      "text/plain": [
       "array(['1056', '2600', '1440', ..., '1133 - 1384', '774', '4689'],\n",
       "      dtype=object)"
      ]
     },
     "execution_count": 38,
     "metadata": {},
     "output_type": "execute_result"
    }
   ],
   "source": [
    "df3['total_sqft'].unique()"
   ]
  },
  {
   "cell_type": "code",
   "execution_count": 39,
   "id": "e68c3070",
   "metadata": {},
   "outputs": [
    {
     "data": {
      "text/html": [
       "<div>\n",
       "<style scoped>\n",
       "    .dataframe tbody tr th:only-of-type {\n",
       "        vertical-align: middle;\n",
       "    }\n",
       "\n",
       "    .dataframe tbody tr th {\n",
       "        vertical-align: top;\n",
       "    }\n",
       "\n",
       "    .dataframe thead th {\n",
       "        text-align: right;\n",
       "    }\n",
       "</style>\n",
       "<table border=\"1\" class=\"dataframe\">\n",
       "  <thead>\n",
       "    <tr style=\"text-align: right;\">\n",
       "      <th></th>\n",
       "      <th>area_type</th>\n",
       "      <th>location</th>\n",
       "      <th>total_sqft</th>\n",
       "      <th>bath</th>\n",
       "      <th>balcony</th>\n",
       "      <th>price</th>\n",
       "      <th>bhk</th>\n",
       "    </tr>\n",
       "  </thead>\n",
       "  <tbody>\n",
       "    <tr>\n",
       "      <th>30</th>\n",
       "      <td>Super built-up  Area</td>\n",
       "      <td>Yelahanka</td>\n",
       "      <td>2100 - 2850</td>\n",
       "      <td>4.0</td>\n",
       "      <td>0.0</td>\n",
       "      <td>186.000</td>\n",
       "      <td>4</td>\n",
       "    </tr>\n",
       "    <tr>\n",
       "      <th>56</th>\n",
       "      <td>Built-up  Area</td>\n",
       "      <td>Devanahalli</td>\n",
       "      <td>3010 - 3410</td>\n",
       "      <td>2.0</td>\n",
       "      <td>0.0</td>\n",
       "      <td>192.000</td>\n",
       "      <td>4</td>\n",
       "    </tr>\n",
       "    <tr>\n",
       "      <th>81</th>\n",
       "      <td>Built-up  Area</td>\n",
       "      <td>Hennur Road</td>\n",
       "      <td>2957 - 3450</td>\n",
       "      <td>2.0</td>\n",
       "      <td>0.0</td>\n",
       "      <td>224.500</td>\n",
       "      <td>4</td>\n",
       "    </tr>\n",
       "    <tr>\n",
       "      <th>122</th>\n",
       "      <td>Super built-up  Area</td>\n",
       "      <td>Hebbal</td>\n",
       "      <td>3067 - 8156</td>\n",
       "      <td>4.0</td>\n",
       "      <td>0.0</td>\n",
       "      <td>477.000</td>\n",
       "      <td>4</td>\n",
       "    </tr>\n",
       "    <tr>\n",
       "      <th>137</th>\n",
       "      <td>Super built-up  Area</td>\n",
       "      <td>8th Phase JP Nagar</td>\n",
       "      <td>1042 - 1105</td>\n",
       "      <td>2.0</td>\n",
       "      <td>0.0</td>\n",
       "      <td>54.005</td>\n",
       "      <td>2</td>\n",
       "    </tr>\n",
       "    <tr>\n",
       "      <th>165</th>\n",
       "      <td>Super built-up  Area</td>\n",
       "      <td>Sarjapur</td>\n",
       "      <td>1145 - 1340</td>\n",
       "      <td>2.0</td>\n",
       "      <td>0.0</td>\n",
       "      <td>43.490</td>\n",
       "      <td>2</td>\n",
       "    </tr>\n",
       "    <tr>\n",
       "      <th>188</th>\n",
       "      <td>Super built-up  Area</td>\n",
       "      <td>KR Puram</td>\n",
       "      <td>1015 - 1540</td>\n",
       "      <td>2.0</td>\n",
       "      <td>0.0</td>\n",
       "      <td>56.800</td>\n",
       "      <td>2</td>\n",
       "    </tr>\n",
       "    <tr>\n",
       "      <th>224</th>\n",
       "      <td>Super built-up  Area</td>\n",
       "      <td>Devanahalli</td>\n",
       "      <td>1520 - 1740</td>\n",
       "      <td>2.0</td>\n",
       "      <td>0.0</td>\n",
       "      <td>74.820</td>\n",
       "      <td>3</td>\n",
       "    </tr>\n",
       "    <tr>\n",
       "      <th>410</th>\n",
       "      <td>Super built-up  Area</td>\n",
       "      <td>Kengeri</td>\n",
       "      <td>34.46Sq. Meter</td>\n",
       "      <td>1.0</td>\n",
       "      <td>0.0</td>\n",
       "      <td>18.500</td>\n",
       "      <td>1</td>\n",
       "    </tr>\n",
       "    <tr>\n",
       "      <th>549</th>\n",
       "      <td>Super built-up  Area</td>\n",
       "      <td>Hennur Road</td>\n",
       "      <td>1195 - 1440</td>\n",
       "      <td>2.0</td>\n",
       "      <td>0.0</td>\n",
       "      <td>63.770</td>\n",
       "      <td>2</td>\n",
       "    </tr>\n",
       "    <tr>\n",
       "      <th>579</th>\n",
       "      <td>Plot  Area</td>\n",
       "      <td>Sarjapur  Road</td>\n",
       "      <td>1200 - 2400</td>\n",
       "      <td>2.0</td>\n",
       "      <td>0.0</td>\n",
       "      <td>34.185</td>\n",
       "      <td>2</td>\n",
       "    </tr>\n",
       "    <tr>\n",
       "      <th>648</th>\n",
       "      <td>Built-up  Area</td>\n",
       "      <td>Arekere</td>\n",
       "      <td>4125Perch</td>\n",
       "      <td>9.0</td>\n",
       "      <td>0.0</td>\n",
       "      <td>265.000</td>\n",
       "      <td>9</td>\n",
       "    </tr>\n",
       "    <tr>\n",
       "      <th>661</th>\n",
       "      <td>Super built-up  Area</td>\n",
       "      <td>Yelahanka</td>\n",
       "      <td>1120 - 1145</td>\n",
       "      <td>2.0</td>\n",
       "      <td>0.0</td>\n",
       "      <td>48.130</td>\n",
       "      <td>2</td>\n",
       "    </tr>\n",
       "    <tr>\n",
       "      <th>669</th>\n",
       "      <td>Super built-up  Area</td>\n",
       "      <td>JP Nagar</td>\n",
       "      <td>4400 - 6640</td>\n",
       "      <td>2.0</td>\n",
       "      <td>0.0</td>\n",
       "      <td>375.000</td>\n",
       "      <td>5</td>\n",
       "    </tr>\n",
       "    <tr>\n",
       "      <th>672</th>\n",
       "      <td>Built-up  Area</td>\n",
       "      <td>Bettahalsoor</td>\n",
       "      <td>3090 - 5002</td>\n",
       "      <td>4.0</td>\n",
       "      <td>0.0</td>\n",
       "      <td>445.000</td>\n",
       "      <td>4</td>\n",
       "    </tr>\n",
       "  </tbody>\n",
       "</table>\n",
       "</div>"
      ],
      "text/plain": [
       "                area_type            location      total_sqft  bath  balcony  \\\n",
       "30   Super built-up  Area           Yelahanka     2100 - 2850   4.0      0.0   \n",
       "56         Built-up  Area         Devanahalli     3010 - 3410   2.0      0.0   \n",
       "81         Built-up  Area         Hennur Road     2957 - 3450   2.0      0.0   \n",
       "122  Super built-up  Area              Hebbal     3067 - 8156   4.0      0.0   \n",
       "137  Super built-up  Area  8th Phase JP Nagar     1042 - 1105   2.0      0.0   \n",
       "165  Super built-up  Area            Sarjapur     1145 - 1340   2.0      0.0   \n",
       "188  Super built-up  Area            KR Puram     1015 - 1540   2.0      0.0   \n",
       "224  Super built-up  Area         Devanahalli     1520 - 1740   2.0      0.0   \n",
       "410  Super built-up  Area             Kengeri  34.46Sq. Meter   1.0      0.0   \n",
       "549  Super built-up  Area         Hennur Road     1195 - 1440   2.0      0.0   \n",
       "579            Plot  Area      Sarjapur  Road     1200 - 2400   2.0      0.0   \n",
       "648        Built-up  Area             Arekere       4125Perch   9.0      0.0   \n",
       "661  Super built-up  Area           Yelahanka     1120 - 1145   2.0      0.0   \n",
       "669  Super built-up  Area            JP Nagar     4400 - 6640   2.0      0.0   \n",
       "672        Built-up  Area        Bettahalsoor     3090 - 5002   4.0      0.0   \n",
       "\n",
       "       price  bhk  \n",
       "30   186.000    4  \n",
       "56   192.000    4  \n",
       "81   224.500    4  \n",
       "122  477.000    4  \n",
       "137   54.005    2  \n",
       "165   43.490    2  \n",
       "188   56.800    2  \n",
       "224   74.820    3  \n",
       "410   18.500    1  \n",
       "549   63.770    2  \n",
       "579   34.185    2  \n",
       "648  265.000    9  \n",
       "661   48.130    2  \n",
       "669  375.000    5  \n",
       "672  445.000    4  "
      ]
     },
     "execution_count": 39,
     "metadata": {},
     "output_type": "execute_result"
    }
   ],
   "source": [
    "def is_float(x):\n",
    "    try:\n",
    "        float(x)\n",
    "    except:\n",
    "        return False\n",
    "    return True\n",
    "\n",
    "df3[~df3['total_sqft'].apply(is_float)].head(15)"
   ]
  },
  {
   "cell_type": "markdown",
   "id": "2cd4f69a",
   "metadata": {},
   "source": [
    "### It appears that the total_sqft field has some non-numerical values."
   ]
  },
  {
   "cell_type": "code",
   "execution_count": 40,
   "id": "93e37791",
   "metadata": {},
   "outputs": [],
   "source": [
    "def convert_sqft_to_num(x):\n",
    "    tokens = x.split('-')\n",
    "    if len(tokens) == 2:\n",
    "        return (float(float(tokens[0]) + float(tokens[1])/2))\n",
    "    try:\n",
    "        return float(x)\n",
    "    except:\n",
    "        return x\n",
    "    \n",
    "#df3['total_sqft_area'] = df3['total_sqft'].apply(convert_sqft_to_num)"
   ]
  },
  {
   "cell_type": "code",
   "execution_count": 41,
   "id": "f2ba61d3",
   "metadata": {},
   "outputs": [
    {
     "data": {
      "text/html": [
       "<div>\n",
       "<style scoped>\n",
       "    .dataframe tbody tr th:only-of-type {\n",
       "        vertical-align: middle;\n",
       "    }\n",
       "\n",
       "    .dataframe tbody tr th {\n",
       "        vertical-align: top;\n",
       "    }\n",
       "\n",
       "    .dataframe thead th {\n",
       "        text-align: right;\n",
       "    }\n",
       "</style>\n",
       "<table border=\"1\" class=\"dataframe\">\n",
       "  <thead>\n",
       "    <tr style=\"text-align: right;\">\n",
       "      <th></th>\n",
       "      <th>area_type</th>\n",
       "      <th>location</th>\n",
       "      <th>total_sqft</th>\n",
       "      <th>bath</th>\n",
       "      <th>balcony</th>\n",
       "      <th>price</th>\n",
       "      <th>bhk</th>\n",
       "    </tr>\n",
       "  </thead>\n",
       "  <tbody>\n",
       "    <tr>\n",
       "      <th>0</th>\n",
       "      <td>Super built-up  Area</td>\n",
       "      <td>Electronic City Phase II</td>\n",
       "      <td>1056.0</td>\n",
       "      <td>2.0</td>\n",
       "      <td>1.0</td>\n",
       "      <td>39.07</td>\n",
       "      <td>2</td>\n",
       "    </tr>\n",
       "    <tr>\n",
       "      <th>1</th>\n",
       "      <td>Plot  Area</td>\n",
       "      <td>Chikka Tirupathi</td>\n",
       "      <td>2600.0</td>\n",
       "      <td>5.0</td>\n",
       "      <td>3.0</td>\n",
       "      <td>120.00</td>\n",
       "      <td>4</td>\n",
       "    </tr>\n",
       "    <tr>\n",
       "      <th>2</th>\n",
       "      <td>Built-up  Area</td>\n",
       "      <td>Uttarahalli</td>\n",
       "      <td>1440.0</td>\n",
       "      <td>2.0</td>\n",
       "      <td>3.0</td>\n",
       "      <td>62.00</td>\n",
       "      <td>3</td>\n",
       "    </tr>\n",
       "    <tr>\n",
       "      <th>3</th>\n",
       "      <td>Super built-up  Area</td>\n",
       "      <td>Lingadheeranahalli</td>\n",
       "      <td>1521.0</td>\n",
       "      <td>3.0</td>\n",
       "      <td>1.0</td>\n",
       "      <td>95.00</td>\n",
       "      <td>3</td>\n",
       "    </tr>\n",
       "    <tr>\n",
       "      <th>4</th>\n",
       "      <td>Super built-up  Area</td>\n",
       "      <td>Kothanur</td>\n",
       "      <td>1200.0</td>\n",
       "      <td>2.0</td>\n",
       "      <td>1.0</td>\n",
       "      <td>51.00</td>\n",
       "      <td>2</td>\n",
       "    </tr>\n",
       "  </tbody>\n",
       "</table>\n",
       "</div>"
      ],
      "text/plain": [
       "              area_type                  location total_sqft  bath  balcony  \\\n",
       "0  Super built-up  Area  Electronic City Phase II     1056.0   2.0      1.0   \n",
       "1            Plot  Area          Chikka Tirupathi     2600.0   5.0      3.0   \n",
       "2        Built-up  Area               Uttarahalli     1440.0   2.0      3.0   \n",
       "3  Super built-up  Area        Lingadheeranahalli     1521.0   3.0      1.0   \n",
       "4  Super built-up  Area                  Kothanur     1200.0   2.0      1.0   \n",
       "\n",
       "    price  bhk  \n",
       "0   39.07    2  \n",
       "1  120.00    4  \n",
       "2   62.00    3  \n",
       "3   95.00    3  \n",
       "4   51.00    2  "
      ]
     },
     "execution_count": 41,
     "metadata": {},
     "output_type": "execute_result"
    }
   ],
   "source": [
    "df4 = df3.copy()\n",
    "df4['total_sqft'] = df4['total_sqft'].apply(convert_sqft_to_num)\n",
    "df4.head()"
   ]
  },
  {
   "cell_type": "code",
   "execution_count": 42,
   "id": "a07c8f6a",
   "metadata": {},
   "outputs": [
    {
     "name": "stdout",
     "output_type": "stream",
     "text": [
      "410       34.46Sq. Meter\n",
      "648            4125Perch\n",
      "775        1000Sq. Meter\n",
      "872        1100Sq. Yards\n",
      "1019           5.31Acres\n",
      "1086             30Acres\n",
      "1400        716Sq. Meter\n",
      "1712       1500Sq. Meter\n",
      "1743     142.61Sq. Meter\n",
      "1821       1574Sq. Yards\n",
      "2310     361.33Sq. Yards\n",
      "2881        117Sq. Yards\n",
      "3228       3040Sq. Meter\n",
      "3285        500Sq. Yards\n",
      "4113        167Sq. Meter\n",
      "4293        315Sq. Yards\n",
      "5453              3Cents\n",
      "5537     188.89Sq. Yards\n",
      "5631        204Sq. Meter\n",
      "5668         45Sq. Yards\n",
      "5708      133.3Sq. Yards\n",
      "5976      78.03Sq. Meter\n",
      "6268        122Sq. Yards\n",
      "6303      84.53Sq. Meter\n",
      "6333           2.09Acres\n",
      "6552            24Guntha\n",
      "6592        697Sq. Meter\n",
      "6953     142.61Sq. Meter\n",
      "7001           1500Cents\n",
      "7248        132Sq. Yards\n",
      "7334              2Acres\n",
      "7520       1100Sq. Meter\n",
      "7607             15Acres\n",
      "7726           1.26Acres\n",
      "8273     151.11Sq. Yards\n",
      "9423            1Grounds\n",
      "9519       2940Sq. Yards\n",
      "9734      45.06Sq. Meter\n",
      "10488          1.25Acres\n",
      "10491     86.72Sq. Meter\n",
      "11320           38Guntha\n",
      "11615             6Acres\n",
      "12186       120Sq. Yards\n",
      "12252        24Sq. Meter\n",
      "12560    142.84Sq. Meter\n",
      "12652       300Sq. Yards\n",
      "Name: total_sqft, dtype: object\n",
      "\n",
      "Number of rows: 46\n"
     ]
    }
   ],
   "source": [
    "print(df4[~df4['total_sqft'].apply(is_float)]['total_sqft'])\n",
    "print('\\nNumber of rows: ' + str(len(df4[~df4['total_sqft'].apply(is_float)]['total_sqft'])))"
   ]
  },
  {
   "cell_type": "markdown",
   "id": "77697ef3",
   "metadata": {},
   "source": [
    "### Since the field name explicitly stated to be in sqft and yet we find different units of about 76 rows, its better to ignore these rows and proceed further as the sample size would be sufficient for model training and testing."
   ]
  },
  {
   "cell_type": "code",
   "execution_count": 43,
   "id": "08a1ee2d",
   "metadata": {},
   "outputs": [],
   "source": [
    "drop_index = df4[~df4['total_sqft'].apply(is_float)]['total_sqft'].index\n",
    "\n",
    "df4.drop(index=drop_index, inplace=True)"
   ]
  },
  {
   "cell_type": "code",
   "execution_count": 44,
   "id": "e4e79dee",
   "metadata": {},
   "outputs": [
    {
     "data": {
      "text/plain": [
       "46"
      ]
     },
     "execution_count": 44,
     "metadata": {},
     "output_type": "execute_result"
    }
   ],
   "source": [
    "df3.shape[0] - df4.shape[0]"
   ]
  },
  {
   "cell_type": "code",
   "execution_count": 45,
   "id": "6c8c65f8",
   "metadata": {},
   "outputs": [
    {
     "data": {
      "text/plain": [
       "area_type      object\n",
       "location       object\n",
       "total_sqft     object\n",
       "bath          float64\n",
       "balcony       float64\n",
       "price         float64\n",
       "bhk             int64\n",
       "dtype: object"
      ]
     },
     "execution_count": 45,
     "metadata": {},
     "output_type": "execute_result"
    }
   ],
   "source": [
    "df4.dtypes"
   ]
  },
  {
   "cell_type": "code",
   "execution_count": 46,
   "id": "9f5ab70f",
   "metadata": {},
   "outputs": [],
   "source": [
    "df4['total_sqft'] = df4['total_sqft'].astype('float64')\n",
    "df4['bhk'] = df4['bhk'].astype('float64')"
   ]
  },
  {
   "cell_type": "code",
   "execution_count": 47,
   "id": "71c100a3",
   "metadata": {},
   "outputs": [
    {
     "data": {
      "text/plain": [
       "area_type      object\n",
       "location       object\n",
       "total_sqft    float64\n",
       "bath          float64\n",
       "balcony       float64\n",
       "price         float64\n",
       "bhk           float64\n",
       "dtype: object"
      ]
     },
     "execution_count": 47,
     "metadata": {},
     "output_type": "execute_result"
    }
   ],
   "source": [
    "df4.dtypes"
   ]
  },
  {
   "cell_type": "markdown",
   "id": "3b4404e7",
   "metadata": {},
   "source": [
    "### Datatypes of the data frame has been synchornized for the feature engineering. Basically 2 object type and 5 numeric type fields."
   ]
  },
  {
   "cell_type": "code",
   "execution_count": 48,
   "id": "3163fdda",
   "metadata": {},
   "outputs": [
    {
     "data": {
      "text/html": [
       "<div>\n",
       "<style scoped>\n",
       "    .dataframe tbody tr th:only-of-type {\n",
       "        vertical-align: middle;\n",
       "    }\n",
       "\n",
       "    .dataframe tbody tr th {\n",
       "        vertical-align: top;\n",
       "    }\n",
       "\n",
       "    .dataframe thead th {\n",
       "        text-align: right;\n",
       "    }\n",
       "</style>\n",
       "<table border=\"1\" class=\"dataframe\">\n",
       "  <thead>\n",
       "    <tr style=\"text-align: right;\">\n",
       "      <th></th>\n",
       "      <th>area_type</th>\n",
       "      <th>location</th>\n",
       "      <th>total_sqft</th>\n",
       "      <th>bath</th>\n",
       "      <th>balcony</th>\n",
       "      <th>price</th>\n",
       "      <th>bhk</th>\n",
       "      <th>price_per_sqft</th>\n",
       "    </tr>\n",
       "  </thead>\n",
       "  <tbody>\n",
       "    <tr>\n",
       "      <th>0</th>\n",
       "      <td>Super built-up  Area</td>\n",
       "      <td>Electronic City Phase II</td>\n",
       "      <td>1056.0</td>\n",
       "      <td>2.0</td>\n",
       "      <td>1.0</td>\n",
       "      <td>39.07</td>\n",
       "      <td>2.0</td>\n",
       "      <td>3699.81</td>\n",
       "    </tr>\n",
       "    <tr>\n",
       "      <th>1</th>\n",
       "      <td>Plot  Area</td>\n",
       "      <td>Chikka Tirupathi</td>\n",
       "      <td>2600.0</td>\n",
       "      <td>5.0</td>\n",
       "      <td>3.0</td>\n",
       "      <td>120.00</td>\n",
       "      <td>4.0</td>\n",
       "      <td>4615.38</td>\n",
       "    </tr>\n",
       "    <tr>\n",
       "      <th>2</th>\n",
       "      <td>Built-up  Area</td>\n",
       "      <td>Uttarahalli</td>\n",
       "      <td>1440.0</td>\n",
       "      <td>2.0</td>\n",
       "      <td>3.0</td>\n",
       "      <td>62.00</td>\n",
       "      <td>3.0</td>\n",
       "      <td>4305.56</td>\n",
       "    </tr>\n",
       "    <tr>\n",
       "      <th>3</th>\n",
       "      <td>Super built-up  Area</td>\n",
       "      <td>Lingadheeranahalli</td>\n",
       "      <td>1521.0</td>\n",
       "      <td>3.0</td>\n",
       "      <td>1.0</td>\n",
       "      <td>95.00</td>\n",
       "      <td>3.0</td>\n",
       "      <td>6245.89</td>\n",
       "    </tr>\n",
       "    <tr>\n",
       "      <th>4</th>\n",
       "      <td>Super built-up  Area</td>\n",
       "      <td>Kothanur</td>\n",
       "      <td>1200.0</td>\n",
       "      <td>2.0</td>\n",
       "      <td>1.0</td>\n",
       "      <td>51.00</td>\n",
       "      <td>2.0</td>\n",
       "      <td>4250.00</td>\n",
       "    </tr>\n",
       "  </tbody>\n",
       "</table>\n",
       "</div>"
      ],
      "text/plain": [
       "              area_type                  location  total_sqft  bath  balcony  \\\n",
       "0  Super built-up  Area  Electronic City Phase II      1056.0   2.0      1.0   \n",
       "1            Plot  Area          Chikka Tirupathi      2600.0   5.0      3.0   \n",
       "2        Built-up  Area               Uttarahalli      1440.0   2.0      3.0   \n",
       "3  Super built-up  Area        Lingadheeranahalli      1521.0   3.0      1.0   \n",
       "4  Super built-up  Area                  Kothanur      1200.0   2.0      1.0   \n",
       "\n",
       "    price  bhk  price_per_sqft  \n",
       "0   39.07  2.0         3699.81  \n",
       "1  120.00  4.0         4615.38  \n",
       "2   62.00  3.0         4305.56  \n",
       "3   95.00  3.0         6245.89  \n",
       "4   51.00  2.0         4250.00  "
      ]
     },
     "execution_count": 48,
     "metadata": {},
     "output_type": "execute_result"
    }
   ],
   "source": [
    "df4['price_per_sqft'] = round(df4['price']*100000/df4['total_sqft'],2)\n",
    "df4.head()"
   ]
  },
  {
   "cell_type": "markdown",
   "id": "96efa9d4",
   "metadata": {},
   "source": [
    "### Created the new calculated column price_per_sqft"
   ]
  },
  {
   "cell_type": "markdown",
   "id": "41aa426c",
   "metadata": {},
   "source": [
    "### After the data cleaning process we are left with the below dataframe."
   ]
  },
  {
   "cell_type": "code",
   "execution_count": 49,
   "id": "3ab4d5a1",
   "metadata": {},
   "outputs": [
    {
     "data": {
      "text/html": [
       "<div>\n",
       "<style scoped>\n",
       "    .dataframe tbody tr th:only-of-type {\n",
       "        vertical-align: middle;\n",
       "    }\n",
       "\n",
       "    .dataframe tbody tr th {\n",
       "        vertical-align: top;\n",
       "    }\n",
       "\n",
       "    .dataframe thead th {\n",
       "        text-align: right;\n",
       "    }\n",
       "</style>\n",
       "<table border=\"1\" class=\"dataframe\">\n",
       "  <thead>\n",
       "    <tr style=\"text-align: right;\">\n",
       "      <th></th>\n",
       "      <th>area_type</th>\n",
       "      <th>location</th>\n",
       "      <th>total_sqft</th>\n",
       "      <th>bath</th>\n",
       "      <th>balcony</th>\n",
       "      <th>price</th>\n",
       "      <th>bhk</th>\n",
       "      <th>price_per_sqft</th>\n",
       "    </tr>\n",
       "  </thead>\n",
       "  <tbody>\n",
       "    <tr>\n",
       "      <th>0</th>\n",
       "      <td>Super built-up  Area</td>\n",
       "      <td>Electronic City Phase II</td>\n",
       "      <td>1056.0</td>\n",
       "      <td>2.0</td>\n",
       "      <td>1.0</td>\n",
       "      <td>39.07</td>\n",
       "      <td>2.0</td>\n",
       "      <td>3699.81</td>\n",
       "    </tr>\n",
       "    <tr>\n",
       "      <th>1</th>\n",
       "      <td>Plot  Area</td>\n",
       "      <td>Chikka Tirupathi</td>\n",
       "      <td>2600.0</td>\n",
       "      <td>5.0</td>\n",
       "      <td>3.0</td>\n",
       "      <td>120.00</td>\n",
       "      <td>4.0</td>\n",
       "      <td>4615.38</td>\n",
       "    </tr>\n",
       "    <tr>\n",
       "      <th>2</th>\n",
       "      <td>Built-up  Area</td>\n",
       "      <td>Uttarahalli</td>\n",
       "      <td>1440.0</td>\n",
       "      <td>2.0</td>\n",
       "      <td>3.0</td>\n",
       "      <td>62.00</td>\n",
       "      <td>3.0</td>\n",
       "      <td>4305.56</td>\n",
       "    </tr>\n",
       "    <tr>\n",
       "      <th>3</th>\n",
       "      <td>Super built-up  Area</td>\n",
       "      <td>Lingadheeranahalli</td>\n",
       "      <td>1521.0</td>\n",
       "      <td>3.0</td>\n",
       "      <td>1.0</td>\n",
       "      <td>95.00</td>\n",
       "      <td>3.0</td>\n",
       "      <td>6245.89</td>\n",
       "    </tr>\n",
       "    <tr>\n",
       "      <th>4</th>\n",
       "      <td>Super built-up  Area</td>\n",
       "      <td>Kothanur</td>\n",
       "      <td>1200.0</td>\n",
       "      <td>2.0</td>\n",
       "      <td>1.0</td>\n",
       "      <td>51.00</td>\n",
       "      <td>2.0</td>\n",
       "      <td>4250.00</td>\n",
       "    </tr>\n",
       "    <tr>\n",
       "      <th>5</th>\n",
       "      <td>Super built-up  Area</td>\n",
       "      <td>Whitefield</td>\n",
       "      <td>1170.0</td>\n",
       "      <td>2.0</td>\n",
       "      <td>1.0</td>\n",
       "      <td>38.00</td>\n",
       "      <td>2.0</td>\n",
       "      <td>3247.86</td>\n",
       "    </tr>\n",
       "    <tr>\n",
       "      <th>6</th>\n",
       "      <td>Super built-up  Area</td>\n",
       "      <td>Old Airport Road</td>\n",
       "      <td>2732.0</td>\n",
       "      <td>4.0</td>\n",
       "      <td>0.0</td>\n",
       "      <td>204.00</td>\n",
       "      <td>4.0</td>\n",
       "      <td>7467.06</td>\n",
       "    </tr>\n",
       "    <tr>\n",
       "      <th>7</th>\n",
       "      <td>Super built-up  Area</td>\n",
       "      <td>Rajaji Nagar</td>\n",
       "      <td>3300.0</td>\n",
       "      <td>4.0</td>\n",
       "      <td>0.0</td>\n",
       "      <td>600.00</td>\n",
       "      <td>4.0</td>\n",
       "      <td>18181.82</td>\n",
       "    </tr>\n",
       "    <tr>\n",
       "      <th>8</th>\n",
       "      <td>Super built-up  Area</td>\n",
       "      <td>Marathahalli</td>\n",
       "      <td>1310.0</td>\n",
       "      <td>3.0</td>\n",
       "      <td>1.0</td>\n",
       "      <td>63.25</td>\n",
       "      <td>3.0</td>\n",
       "      <td>4828.24</td>\n",
       "    </tr>\n",
       "    <tr>\n",
       "      <th>9</th>\n",
       "      <td>Plot  Area</td>\n",
       "      <td>Gandhi Bazar</td>\n",
       "      <td>1020.0</td>\n",
       "      <td>6.0</td>\n",
       "      <td>0.0</td>\n",
       "      <td>370.00</td>\n",
       "      <td>6.0</td>\n",
       "      <td>36274.51</td>\n",
       "    </tr>\n",
       "    <tr>\n",
       "      <th>10</th>\n",
       "      <td>Super built-up  Area</td>\n",
       "      <td>Whitefield</td>\n",
       "      <td>1800.0</td>\n",
       "      <td>2.0</td>\n",
       "      <td>2.0</td>\n",
       "      <td>70.00</td>\n",
       "      <td>3.0</td>\n",
       "      <td>3888.89</td>\n",
       "    </tr>\n",
       "    <tr>\n",
       "      <th>11</th>\n",
       "      <td>Plot  Area</td>\n",
       "      <td>Whitefield</td>\n",
       "      <td>2785.0</td>\n",
       "      <td>5.0</td>\n",
       "      <td>3.0</td>\n",
       "      <td>295.00</td>\n",
       "      <td>4.0</td>\n",
       "      <td>10592.46</td>\n",
       "    </tr>\n",
       "    <tr>\n",
       "      <th>12</th>\n",
       "      <td>Super built-up  Area</td>\n",
       "      <td>7th Phase JP Nagar</td>\n",
       "      <td>1000.0</td>\n",
       "      <td>2.0</td>\n",
       "      <td>1.0</td>\n",
       "      <td>38.00</td>\n",
       "      <td>2.0</td>\n",
       "      <td>3800.00</td>\n",
       "    </tr>\n",
       "    <tr>\n",
       "      <th>13</th>\n",
       "      <td>Built-up  Area</td>\n",
       "      <td>Gottigere</td>\n",
       "      <td>1100.0</td>\n",
       "      <td>2.0</td>\n",
       "      <td>2.0</td>\n",
       "      <td>40.00</td>\n",
       "      <td>2.0</td>\n",
       "      <td>3636.36</td>\n",
       "    </tr>\n",
       "    <tr>\n",
       "      <th>14</th>\n",
       "      <td>Plot  Area</td>\n",
       "      <td>Sarjapur</td>\n",
       "      <td>2250.0</td>\n",
       "      <td>3.0</td>\n",
       "      <td>2.0</td>\n",
       "      <td>148.00</td>\n",
       "      <td>3.0</td>\n",
       "      <td>6577.78</td>\n",
       "    </tr>\n",
       "  </tbody>\n",
       "</table>\n",
       "</div>"
      ],
      "text/plain": [
       "               area_type                  location  total_sqft  bath  balcony  \\\n",
       "0   Super built-up  Area  Electronic City Phase II      1056.0   2.0      1.0   \n",
       "1             Plot  Area          Chikka Tirupathi      2600.0   5.0      3.0   \n",
       "2         Built-up  Area               Uttarahalli      1440.0   2.0      3.0   \n",
       "3   Super built-up  Area        Lingadheeranahalli      1521.0   3.0      1.0   \n",
       "4   Super built-up  Area                  Kothanur      1200.0   2.0      1.0   \n",
       "5   Super built-up  Area                Whitefield      1170.0   2.0      1.0   \n",
       "6   Super built-up  Area          Old Airport Road      2732.0   4.0      0.0   \n",
       "7   Super built-up  Area              Rajaji Nagar      3300.0   4.0      0.0   \n",
       "8   Super built-up  Area              Marathahalli      1310.0   3.0      1.0   \n",
       "9             Plot  Area              Gandhi Bazar      1020.0   6.0      0.0   \n",
       "10  Super built-up  Area                Whitefield      1800.0   2.0      2.0   \n",
       "11            Plot  Area                Whitefield      2785.0   5.0      3.0   \n",
       "12  Super built-up  Area        7th Phase JP Nagar      1000.0   2.0      1.0   \n",
       "13        Built-up  Area                 Gottigere      1100.0   2.0      2.0   \n",
       "14            Plot  Area                  Sarjapur      2250.0   3.0      2.0   \n",
       "\n",
       "     price  bhk  price_per_sqft  \n",
       "0    39.07  2.0         3699.81  \n",
       "1   120.00  4.0         4615.38  \n",
       "2    62.00  3.0         4305.56  \n",
       "3    95.00  3.0         6245.89  \n",
       "4    51.00  2.0         4250.00  \n",
       "5    38.00  2.0         3247.86  \n",
       "6   204.00  4.0         7467.06  \n",
       "7   600.00  4.0        18181.82  \n",
       "8    63.25  3.0         4828.24  \n",
       "9   370.00  6.0        36274.51  \n",
       "10   70.00  3.0         3888.89  \n",
       "11  295.00  4.0        10592.46  \n",
       "12   38.00  2.0         3800.00  \n",
       "13   40.00  2.0         3636.36  \n",
       "14  148.00  3.0         6577.78  "
      ]
     },
     "execution_count": 49,
     "metadata": {},
     "output_type": "execute_result"
    }
   ],
   "source": [
    "df4.head(15)"
   ]
  },
  {
   "cell_type": "code",
   "execution_count": 50,
   "id": "2b84b5ba",
   "metadata": {},
   "outputs": [
    {
     "data": {
      "text/plain": [
       "WHITEFIELD                540\n",
       "SARJAPUR  ROAD            399\n",
       "ELECTRONIC CITY           304\n",
       "KANAKPURA ROAD            271\n",
       "THANISANDRA               236\n",
       "                         ... \n",
       "BHARATHNAGAR                1\n",
       "D SOUZA LAYOUT              1\n",
       "KANAKAPUR MAIN ROAD         1\n",
       "MADANAYAKAHALLI             1\n",
       "BANASHANKARI 6TH STAGE      1\n",
       "Name: location, Length: 1277, dtype: int64"
      ]
     },
     "execution_count": 50,
     "metadata": {},
     "output_type": "execute_result"
    }
   ],
   "source": [
    "df4['location'].str.strip().str.upper().value_counts(ascending=False)"
   ]
  },
  {
   "cell_type": "markdown",
   "id": "6e725063",
   "metadata": {},
   "source": [
    "### Since the total values of location has 1277, we need to concise it to better suit for encoding it for the model. So plugging in value 'Other' if the count is less than 10 for any location."
   ]
  },
  {
   "cell_type": "code",
   "execution_count": 51,
   "id": "862c2324",
   "metadata": {},
   "outputs": [],
   "source": [
    "df4['location'] = df4['location'].str.strip().str.upper()\n",
    "location_stat = df4['location'].value_counts(ascending=False)"
   ]
  },
  {
   "cell_type": "code",
   "execution_count": 52,
   "id": "06fabbfe",
   "metadata": {},
   "outputs": [
    {
     "name": "stdout",
     "output_type": "stream",
     "text": [
      "Count greater than 10:\n",
      "WHITEFIELD          540\n",
      "SARJAPUR  ROAD      399\n",
      "ELECTRONIC CITY     304\n",
      "KANAKPURA ROAD      271\n",
      "THANISANDRA         236\n",
      "                   ... \n",
      "DODDABALLAPUR        11\n",
      "BANJARA LAYOUT       11\n",
      "HAL 2ND STAGE        11\n",
      "LB SHASTRI NAGAR     11\n",
      "NARAYANAPURA         11\n",
      "Name: location, Length: 240, dtype: int64\n",
      "\n",
      " length of location > 10: 240\n"
     ]
    }
   ],
   "source": [
    "location_stat_above_10 = location_stat[location_stat>10]\n",
    "location_stat_below_equal_10 = location_stat[location_stat<=10]\n",
    "\n",
    "print(\"Count greater than 10:\")\n",
    "print(location_stat_above_10)\n",
    "print('\\n length of location > 10: '+ str(len(location_stat_above_10)))"
   ]
  },
  {
   "cell_type": "code",
   "execution_count": 53,
   "id": "dfbe029f",
   "metadata": {},
   "outputs": [
    {
     "name": "stdout",
     "output_type": "stream",
     "text": [
      "Count less than equal to 10:\n",
      "1 ANNASANDRAPALYA                                  1\n",
      "1 GIRI NAGAR                                       1\n",
      "1 IMMADIHALLI                                      1\n",
      "1 RAMAMURTHY NAGAR                                 1\n",
      "12TH CROSS SRINIVAS NAGAR BANSHANKARI 3RD STAGE    1\n",
      "                                                  ..\n",
      "YELAHANKA,MVIT COLLEGE                             1\n",
      "YEMLUR                                             9\n",
      "YEMLUR, OLD AIRPORT ROAD,                          1\n",
      "YESHWANTHPUR INDUSTRIAL SUBURB                     3\n",
      "ZUZUVADI                                           1\n",
      "Name: location, Length: 1037, dtype: int64\n",
      "\n",
      "\n",
      "\n",
      " length of location <= 10: 1037\n"
     ]
    }
   ],
   "source": [
    "print(\"Count less than equal to 10:\")\n",
    "print(location_stat_below_equal_10.sort_index())\n",
    "print('\\n')\n",
    "print('\\n length of location <= 10: '+ str(len(location_stat_below_equal_10)))"
   ]
  },
  {
   "cell_type": "code",
   "execution_count": 54,
   "id": "1f6e82da",
   "metadata": {},
   "outputs": [
    {
     "data": {
      "text/html": [
       "<div>\n",
       "<style scoped>\n",
       "    .dataframe tbody tr th:only-of-type {\n",
       "        vertical-align: middle;\n",
       "    }\n",
       "\n",
       "    .dataframe tbody tr th {\n",
       "        vertical-align: top;\n",
       "    }\n",
       "\n",
       "    .dataframe thead th {\n",
       "        text-align: right;\n",
       "    }\n",
       "</style>\n",
       "<table border=\"1\" class=\"dataframe\">\n",
       "  <thead>\n",
       "    <tr style=\"text-align: right;\">\n",
       "      <th></th>\n",
       "      <th>area_type</th>\n",
       "      <th>location</th>\n",
       "      <th>total_sqft</th>\n",
       "      <th>bath</th>\n",
       "      <th>balcony</th>\n",
       "      <th>price</th>\n",
       "      <th>bhk</th>\n",
       "      <th>price_per_sqft</th>\n",
       "    </tr>\n",
       "  </thead>\n",
       "  <tbody>\n",
       "    <tr>\n",
       "      <th>9</th>\n",
       "      <td>Plot  Area</td>\n",
       "      <td>Other</td>\n",
       "      <td>1020.0</td>\n",
       "      <td>6.0</td>\n",
       "      <td>0.0</td>\n",
       "      <td>370.00</td>\n",
       "      <td>6.0</td>\n",
       "      <td>36274.51</td>\n",
       "    </tr>\n",
       "    <tr>\n",
       "      <th>18</th>\n",
       "      <td>Super built-up  Area</td>\n",
       "      <td>Other</td>\n",
       "      <td>2770.0</td>\n",
       "      <td>4.0</td>\n",
       "      <td>2.0</td>\n",
       "      <td>290.00</td>\n",
       "      <td>3.0</td>\n",
       "      <td>10469.31</td>\n",
       "    </tr>\n",
       "    <tr>\n",
       "      <th>19</th>\n",
       "      <td>Super built-up  Area</td>\n",
       "      <td>Other</td>\n",
       "      <td>1100.0</td>\n",
       "      <td>2.0</td>\n",
       "      <td>2.0</td>\n",
       "      <td>48.00</td>\n",
       "      <td>2.0</td>\n",
       "      <td>4363.64</td>\n",
       "    </tr>\n",
       "    <tr>\n",
       "      <th>25</th>\n",
       "      <td>Super built-up  Area</td>\n",
       "      <td>Other</td>\n",
       "      <td>1250.0</td>\n",
       "      <td>3.0</td>\n",
       "      <td>2.0</td>\n",
       "      <td>56.00</td>\n",
       "      <td>3.0</td>\n",
       "      <td>4480.00</td>\n",
       "    </tr>\n",
       "    <tr>\n",
       "      <th>42</th>\n",
       "      <td>Super built-up  Area</td>\n",
       "      <td>Other</td>\n",
       "      <td>600.0</td>\n",
       "      <td>1.0</td>\n",
       "      <td>0.0</td>\n",
       "      <td>38.00</td>\n",
       "      <td>1.0</td>\n",
       "      <td>6333.33</td>\n",
       "    </tr>\n",
       "    <tr>\n",
       "      <th>...</th>\n",
       "      <td>...</td>\n",
       "      <td>...</td>\n",
       "      <td>...</td>\n",
       "      <td>...</td>\n",
       "      <td>...</td>\n",
       "      <td>...</td>\n",
       "      <td>...</td>\n",
       "      <td>...</td>\n",
       "    </tr>\n",
       "    <tr>\n",
       "      <th>13291</th>\n",
       "      <td>Plot  Area</td>\n",
       "      <td>Other</td>\n",
       "      <td>812.0</td>\n",
       "      <td>1.0</td>\n",
       "      <td>0.0</td>\n",
       "      <td>26.00</td>\n",
       "      <td>1.0</td>\n",
       "      <td>3201.97</td>\n",
       "    </tr>\n",
       "    <tr>\n",
       "      <th>13292</th>\n",
       "      <td>Super built-up  Area</td>\n",
       "      <td>Other</td>\n",
       "      <td>1440.0</td>\n",
       "      <td>2.0</td>\n",
       "      <td>2.0</td>\n",
       "      <td>63.93</td>\n",
       "      <td>3.0</td>\n",
       "      <td>4439.58</td>\n",
       "    </tr>\n",
       "    <tr>\n",
       "      <th>13302</th>\n",
       "      <td>Super built-up  Area</td>\n",
       "      <td>Other</td>\n",
       "      <td>1075.0</td>\n",
       "      <td>2.0</td>\n",
       "      <td>2.0</td>\n",
       "      <td>48.00</td>\n",
       "      <td>2.0</td>\n",
       "      <td>4465.12</td>\n",
       "    </tr>\n",
       "    <tr>\n",
       "      <th>13306</th>\n",
       "      <td>Plot  Area</td>\n",
       "      <td>Other</td>\n",
       "      <td>1200.0</td>\n",
       "      <td>5.0</td>\n",
       "      <td>0.0</td>\n",
       "      <td>325.00</td>\n",
       "      <td>4.0</td>\n",
       "      <td>27083.33</td>\n",
       "    </tr>\n",
       "    <tr>\n",
       "      <th>13316</th>\n",
       "      <td>Super built-up  Area</td>\n",
       "      <td>Other</td>\n",
       "      <td>3600.0</td>\n",
       "      <td>5.0</td>\n",
       "      <td>0.0</td>\n",
       "      <td>400.00</td>\n",
       "      <td>4.0</td>\n",
       "      <td>11111.11</td>\n",
       "    </tr>\n",
       "  </tbody>\n",
       "</table>\n",
       "<p>2876 rows × 8 columns</p>\n",
       "</div>"
      ],
      "text/plain": [
       "                  area_type location  total_sqft  bath  balcony   price  bhk  \\\n",
       "9                Plot  Area    Other      1020.0   6.0      0.0  370.00  6.0   \n",
       "18     Super built-up  Area    Other      2770.0   4.0      2.0  290.00  3.0   \n",
       "19     Super built-up  Area    Other      1100.0   2.0      2.0   48.00  2.0   \n",
       "25     Super built-up  Area    Other      1250.0   3.0      2.0   56.00  3.0   \n",
       "42     Super built-up  Area    Other       600.0   1.0      0.0   38.00  1.0   \n",
       "...                     ...      ...         ...   ...      ...     ...  ...   \n",
       "13291            Plot  Area    Other       812.0   1.0      0.0   26.00  1.0   \n",
       "13292  Super built-up  Area    Other      1440.0   2.0      2.0   63.93  3.0   \n",
       "13302  Super built-up  Area    Other      1075.0   2.0      2.0   48.00  2.0   \n",
       "13306            Plot  Area    Other      1200.0   5.0      0.0  325.00  4.0   \n",
       "13316  Super built-up  Area    Other      3600.0   5.0      0.0  400.00  4.0   \n",
       "\n",
       "       price_per_sqft  \n",
       "9            36274.51  \n",
       "18           10469.31  \n",
       "19            4363.64  \n",
       "25            4480.00  \n",
       "42            6333.33  \n",
       "...               ...  \n",
       "13291         3201.97  \n",
       "13292         4439.58  \n",
       "13302         4465.12  \n",
       "13306        27083.33  \n",
       "13316        11111.11  \n",
       "\n",
       "[2876 rows x 8 columns]"
      ]
     },
     "execution_count": 54,
     "metadata": {},
     "output_type": "execute_result"
    }
   ],
   "source": [
    "df4['location'] = df4['location'].apply(lambda x: 'Other' if x in location_stat_below_equal_10 else x)\n",
    "df4[df4['location'] == 'Other']"
   ]
  },
  {
   "cell_type": "markdown",
   "id": "1ca78a95",
   "metadata": {},
   "source": [
    "### Now the dataset has been cleaned and we have performed feature engineering as well, below is the dataframe."
   ]
  },
  {
   "cell_type": "code",
   "execution_count": 55,
   "id": "01e2988c",
   "metadata": {},
   "outputs": [
    {
     "data": {
      "text/html": [
       "<div>\n",
       "<style scoped>\n",
       "    .dataframe tbody tr th:only-of-type {\n",
       "        vertical-align: middle;\n",
       "    }\n",
       "\n",
       "    .dataframe tbody tr th {\n",
       "        vertical-align: top;\n",
       "    }\n",
       "\n",
       "    .dataframe thead th {\n",
       "        text-align: right;\n",
       "    }\n",
       "</style>\n",
       "<table border=\"1\" class=\"dataframe\">\n",
       "  <thead>\n",
       "    <tr style=\"text-align: right;\">\n",
       "      <th></th>\n",
       "      <th>area_type</th>\n",
       "      <th>location</th>\n",
       "      <th>total_sqft</th>\n",
       "      <th>bath</th>\n",
       "      <th>balcony</th>\n",
       "      <th>price</th>\n",
       "      <th>bhk</th>\n",
       "      <th>price_per_sqft</th>\n",
       "    </tr>\n",
       "  </thead>\n",
       "  <tbody>\n",
       "    <tr>\n",
       "      <th>0</th>\n",
       "      <td>Super built-up  Area</td>\n",
       "      <td>ELECTRONIC CITY PHASE II</td>\n",
       "      <td>1056.0</td>\n",
       "      <td>2.0</td>\n",
       "      <td>1.0</td>\n",
       "      <td>39.07</td>\n",
       "      <td>2.0</td>\n",
       "      <td>3699.81</td>\n",
       "    </tr>\n",
       "    <tr>\n",
       "      <th>1</th>\n",
       "      <td>Plot  Area</td>\n",
       "      <td>CHIKKA TIRUPATHI</td>\n",
       "      <td>2600.0</td>\n",
       "      <td>5.0</td>\n",
       "      <td>3.0</td>\n",
       "      <td>120.00</td>\n",
       "      <td>4.0</td>\n",
       "      <td>4615.38</td>\n",
       "    </tr>\n",
       "    <tr>\n",
       "      <th>2</th>\n",
       "      <td>Built-up  Area</td>\n",
       "      <td>UTTARAHALLI</td>\n",
       "      <td>1440.0</td>\n",
       "      <td>2.0</td>\n",
       "      <td>3.0</td>\n",
       "      <td>62.00</td>\n",
       "      <td>3.0</td>\n",
       "      <td>4305.56</td>\n",
       "    </tr>\n",
       "    <tr>\n",
       "      <th>3</th>\n",
       "      <td>Super built-up  Area</td>\n",
       "      <td>LINGADHEERANAHALLI</td>\n",
       "      <td>1521.0</td>\n",
       "      <td>3.0</td>\n",
       "      <td>1.0</td>\n",
       "      <td>95.00</td>\n",
       "      <td>3.0</td>\n",
       "      <td>6245.89</td>\n",
       "    </tr>\n",
       "    <tr>\n",
       "      <th>4</th>\n",
       "      <td>Super built-up  Area</td>\n",
       "      <td>KOTHANUR</td>\n",
       "      <td>1200.0</td>\n",
       "      <td>2.0</td>\n",
       "      <td>1.0</td>\n",
       "      <td>51.00</td>\n",
       "      <td>2.0</td>\n",
       "      <td>4250.00</td>\n",
       "    </tr>\n",
       "    <tr>\n",
       "      <th>...</th>\n",
       "      <td>...</td>\n",
       "      <td>...</td>\n",
       "      <td>...</td>\n",
       "      <td>...</td>\n",
       "      <td>...</td>\n",
       "      <td>...</td>\n",
       "      <td>...</td>\n",
       "      <td>...</td>\n",
       "    </tr>\n",
       "    <tr>\n",
       "      <th>13315</th>\n",
       "      <td>Built-up  Area</td>\n",
       "      <td>WHITEFIELD</td>\n",
       "      <td>3453.0</td>\n",
       "      <td>4.0</td>\n",
       "      <td>0.0</td>\n",
       "      <td>231.00</td>\n",
       "      <td>5.0</td>\n",
       "      <td>6689.83</td>\n",
       "    </tr>\n",
       "    <tr>\n",
       "      <th>13316</th>\n",
       "      <td>Super built-up  Area</td>\n",
       "      <td>Other</td>\n",
       "      <td>3600.0</td>\n",
       "      <td>5.0</td>\n",
       "      <td>0.0</td>\n",
       "      <td>400.00</td>\n",
       "      <td>4.0</td>\n",
       "      <td>11111.11</td>\n",
       "    </tr>\n",
       "    <tr>\n",
       "      <th>13317</th>\n",
       "      <td>Built-up  Area</td>\n",
       "      <td>RAJA RAJESHWARI NAGAR</td>\n",
       "      <td>1141.0</td>\n",
       "      <td>2.0</td>\n",
       "      <td>1.0</td>\n",
       "      <td>60.00</td>\n",
       "      <td>2.0</td>\n",
       "      <td>5258.55</td>\n",
       "    </tr>\n",
       "    <tr>\n",
       "      <th>13318</th>\n",
       "      <td>Super built-up  Area</td>\n",
       "      <td>PADMANABHANAGAR</td>\n",
       "      <td>4689.0</td>\n",
       "      <td>4.0</td>\n",
       "      <td>1.0</td>\n",
       "      <td>488.00</td>\n",
       "      <td>4.0</td>\n",
       "      <td>10407.34</td>\n",
       "    </tr>\n",
       "    <tr>\n",
       "      <th>13319</th>\n",
       "      <td>Super built-up  Area</td>\n",
       "      <td>DODDATHOGURU</td>\n",
       "      <td>550.0</td>\n",
       "      <td>1.0</td>\n",
       "      <td>1.0</td>\n",
       "      <td>17.00</td>\n",
       "      <td>1.0</td>\n",
       "      <td>3090.91</td>\n",
       "    </tr>\n",
       "  </tbody>\n",
       "</table>\n",
       "<p>13274 rows × 8 columns</p>\n",
       "</div>"
      ],
      "text/plain": [
       "                  area_type                  location  total_sqft  bath  \\\n",
       "0      Super built-up  Area  ELECTRONIC CITY PHASE II      1056.0   2.0   \n",
       "1                Plot  Area          CHIKKA TIRUPATHI      2600.0   5.0   \n",
       "2            Built-up  Area               UTTARAHALLI      1440.0   2.0   \n",
       "3      Super built-up  Area        LINGADHEERANAHALLI      1521.0   3.0   \n",
       "4      Super built-up  Area                  KOTHANUR      1200.0   2.0   \n",
       "...                     ...                       ...         ...   ...   \n",
       "13315        Built-up  Area                WHITEFIELD      3453.0   4.0   \n",
       "13316  Super built-up  Area                     Other      3600.0   5.0   \n",
       "13317        Built-up  Area     RAJA RAJESHWARI NAGAR      1141.0   2.0   \n",
       "13318  Super built-up  Area           PADMANABHANAGAR      4689.0   4.0   \n",
       "13319  Super built-up  Area              DODDATHOGURU       550.0   1.0   \n",
       "\n",
       "       balcony   price  bhk  price_per_sqft  \n",
       "0          1.0   39.07  2.0         3699.81  \n",
       "1          3.0  120.00  4.0         4615.38  \n",
       "2          3.0   62.00  3.0         4305.56  \n",
       "3          1.0   95.00  3.0         6245.89  \n",
       "4          1.0   51.00  2.0         4250.00  \n",
       "...        ...     ...  ...             ...  \n",
       "13315      0.0  231.00  5.0         6689.83  \n",
       "13316      0.0  400.00  4.0        11111.11  \n",
       "13317      1.0   60.00  2.0         5258.55  \n",
       "13318      1.0  488.00  4.0        10407.34  \n",
       "13319      1.0   17.00  1.0         3090.91  \n",
       "\n",
       "[13274 rows x 8 columns]"
      ]
     },
     "execution_count": 55,
     "metadata": {},
     "output_type": "execute_result"
    }
   ],
   "source": [
    "df4"
   ]
  },
  {
   "cell_type": "code",
   "execution_count": 56,
   "id": "f6a86135",
   "metadata": {},
   "outputs": [
    {
     "data": {
      "text/plain": [
       "area_type          object\n",
       "location           object\n",
       "total_sqft        float64\n",
       "bath              float64\n",
       "balcony           float64\n",
       "price             float64\n",
       "bhk               float64\n",
       "price_per_sqft    float64\n",
       "dtype: object"
      ]
     },
     "execution_count": 56,
     "metadata": {},
     "output_type": "execute_result"
    }
   ],
   "source": [
    "df4.dtypes"
   ]
  },
  {
   "cell_type": "code",
   "execution_count": 57,
   "id": "623dd598",
   "metadata": {},
   "outputs": [],
   "source": [
    "df4.to_json(\"C:\\\\Users\\\\stnav\\\\Bengaluru Housing Price Estimator Project\\\\Code\\\\cleaned_dataset\")"
   ]
  }
 ],
 "metadata": {
  "kernelspec": {
   "display_name": "Python 3",
   "language": "python",
   "name": "python3"
  },
  "language_info": {
   "codemirror_mode": {
    "name": "ipython",
    "version": 3
   },
   "file_extension": ".py",
   "mimetype": "text/x-python",
   "name": "python",
   "nbconvert_exporter": "python",
   "pygments_lexer": "ipython3",
   "version": "3.8.10"
  }
 },
 "nbformat": 4,
 "nbformat_minor": 5
}
